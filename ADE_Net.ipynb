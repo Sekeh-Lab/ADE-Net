{
  "cells": [
    {
      "cell_type": "markdown",
      "metadata": {
        "id": "7Of273bddN7p"
      },
      "source": [
        "#ADE-Net\n"
      ]
    },
    {
      "cell_type": "markdown",
      "metadata": {
        "id": "6kcC4zeGoPnk"
      },
      "source": [
        "Code and Paper by: Nicholas Soucy and Dr. Salimeh Yasaei Sekeh"
      ]
    },
    {
      "cell_type": "markdown",
      "metadata": {
        "id": "Ns_AGmkodPJ6"
      },
      "source": [
        "##Initial Setup"
      ]
    },
    {
      "cell_type": "markdown",
      "metadata": {
        "id": "joRsUNRudSeo"
      },
      "source": [
        "### Imports"
      ]
    },
    {
      "cell_type": "code",
      "execution_count": null,
      "metadata": {
        "colab": {
          "base_uri": "https://localhost:8080/"
        },
        "id": "2jjrlbrndU1s",
        "outputId": "fbebd217-287c-43f7-8eb4-bcdce3d520d4"
      },
      "outputs": [
        {
          "name": "stdout",
          "output_type": "stream",
          "text": [
            "Tesla T4\n",
            "Mounted at /content/drive\n"
          ]
        }
      ],
      "source": [
        "#imports\n",
        "\n",
        "import torch\n",
        "\n",
        "if torch.cuda.is_available():\n",
        "    print(torch.cuda.get_device_name(0))\n",
        "    device = torch.device(\"cuda\")\n",
        "else:\n",
        "    device = torch.device(\"cpu\")\n",
        "\n",
        "# #### Importing\n",
        "\n",
        "\n",
        "#imports\n",
        "import numpy as np\n",
        "import matplotlib.pyplot as plt\n",
        "import numpy as np\n",
        "import time\n",
        "import random\n",
        "import torch\n",
        "from torch import nn\n",
        "from torch.utils.data import DataLoader\n",
        "from torchvision import datasets, transforms\n",
        "from sklearn.metrics import cohen_kappa_score as kappa\n",
        "from sklearn.model_selection import cross_val_score\n",
        "from sklearn.model_selection import train_test_split\n",
        "from sklearn.svm import SVC, LinearSVC\n",
        "from sklearn.model_selection import GridSearchCV\n",
        "from sklearn import preprocessing\n",
        "from sklearn import utils\n",
        "from sklearn import mixture\n",
        "from sklearn.neighbors import KNeighborsClassifier\n",
        "import sklearn.preprocessing as sp\n",
        "from sklearn.metrics import classification_report, confusion_matrix, accuracy_score\n",
        "from sklearn.cluster import KMeans\n",
        "from sklearn.mixture import GaussianMixture as GMM\n",
        "import os\n",
        "import os.path as osp\n",
        "import torch\n",
        "import torch.utils.data as data\n",
        "import torch\n",
        "import torch.nn as nn\n",
        "import torch.nn.functional as F\n",
        "from torch.utils.data import DataLoader, TensorDataset\n",
        "from torch import Tensor\n",
        "from torch import optim\n",
        "from sklearn.metrics import confusion_matrix, accuracy_score, classification_report, cohen_kappa_score\n",
        "from operator import truediv\n",
        "import tensorflow as tf\n",
        "import math\n",
        "from sklearn.model_selection import StratifiedShuffleSplit\n",
        "from tqdm import tqdm\n",
        "from tqdm import trange\n",
        "import torch.utils.data as data_utils\n",
        "from scipy.sparse.linalg import LinearOperator as ScipyLinearOperator\n",
        "from scipy.sparse.linalg import eigsh\n",
        "from warnings import warn\n",
        "import shutil\n",
        "import sys\n",
        "\n",
        "from numpy import savetxt\n",
        "from numpy import loadtxt"
      ]
    },
    {
      "cell_type": "code",
      "execution_count": null,
      "metadata": {
        "colab": {
          "base_uri": "https://localhost:8080/"
        },
        "id": "6cJsm1H3zJI3",
        "outputId": "f175b10e-b021-4fd2-c53d-11439f8910b3"
      },
      "outputs": [
        {
          "name": "stdout",
          "output_type": "stream",
          "text": [
            "Alpha Ensemble CE Term:  [1.0, 1.0, 1.0, 1.0, 1.0]\n",
            "Beta Discriminator CE Term:  1.0\n",
            "Lambda Discrim CKA Term:  [1.0, 1.0, 1.0, 1.0, 1.0]\n"
          ]
        }
      ],
      "source": [
        "# GLOBAL VARIABLES TO CHANGE\n",
        "\n",
        "# Batch Number\n",
        "batch = 256\n",
        "\n",
        "# Attack Stuff\n",
        "attack_types = ['FGSM', 'CW', 'PGD', 'I-FGSM', 'VANILA']\n",
        "num_attacks = 5\n",
        "\n",
        "# Number of Epochs\n",
        "num_epochs = 150\n",
        "o_v_epochs = 25\n",
        "\n",
        "# Number of classes IP = 16, KSC = 13, Hou = 15\n",
        "class_num = 13\n",
        "cls = class_num\n",
        "\n",
        "\n",
        "\n",
        "#Model Hyperparameters\n",
        "# Default Values\n",
        "al = [1.0] * num_attacks     #Ensemble Class Cross Entropy Term\n",
        "la = [1.0] * num_attacks     #Discriminator CKA Term\n",
        "be = 1.0                     #Discriminator Attack Cross Entropy Term\n",
        "\n",
        "#Special parameters\n",
        "# al = []\n",
        "# en_mod = 1.0\n",
        "# if num_attacks >= 1:\n",
        "#   al.append(1.4 * en_mod) #Ensemble Class Cross Entropy Term\n",
        "#   be = 1.0 #Discriminator Attack Cross Entropy Term\n",
        "# if num_attacks >= 2:\n",
        "#   al.append(2.3 * en_mod)\n",
        "#   be = 1.0\n",
        "# if num_attacks >= 3:\n",
        "#   al.append(1.7 * en_mod)\n",
        "#   be = 1.0\n",
        "# if num_attacks >= 4:\n",
        "#   al.append(1.3 * en_mod)\n",
        "#   be = 1.0\n",
        "# if num_attacks >= 5:\n",
        "#   al.append(1.0 * en_mod)\n",
        "#   be = 1.0\n",
        "\n",
        "print(\"Alpha Ensemble CE Term: \", al)\n",
        "print(\"Beta Discriminator CE Term: \", be)\n",
        "print(\"Lambda Discrim CKA Term: \",la)"
      ]
    },
    {
      "cell_type": "markdown",
      "metadata": {
        "id": "iASTqptrdlIT"
      },
      "source": [
        "## Classification Functions"
      ]
    },
    {
      "cell_type": "markdown",
      "metadata": {
        "id": "b4Xt7DmMdx7e"
      },
      "source": [
        "### Unet"
      ]
    },
    {
      "cell_type": "markdown",
      "metadata": {
        "id": "eNkb820vL5GF"
      },
      "source": [
        "#### Pytorch Unet Class"
      ]
    },
    {
      "cell_type": "markdown",
      "metadata": {
        "id": "aH1A6Pf7Kalr"
      },
      "source": [
        "Actual Custom Neural Network Class"
      ]
    },
    {
      "cell_type": "code",
      "execution_count": null,
      "metadata": {
        "id": "0za-X04qKZq6"
      },
      "outputs": [],
      "source": [
        "class UNet(nn.Module):\n",
        "    def __init__(self,in_shape,class_num,want_logits=True):\n",
        "        super().__init__()\n",
        "        # Define Variables\n",
        "        self.input_shape = in_shape\n",
        "        self.class_num = class_num\n",
        "        self.want_logits = want_logits\n",
        "        # Define Layers:\n",
        "        # NOTE: Change kernel size to be the size of the patch\n",
        "        self.Conv1 = nn.Conv2d(self.input_shape, 64,kernel_size=(1,1), stride=(1,1), padding='same', bias=False)\n",
        "        self.bn1 = nn.InstanceNorm1d(64)\n",
        "        self.Conv2 = nn.Conv2d(64, 128,kernel_size=(1,1), stride=(2,2), bias=False)\n",
        "        self.bn2 = nn.InstanceNorm1d(128)\n",
        "        self.Conv3 = nn.Conv2d(128, 256,kernel_size=(1,1), stride=(2,2), bias=False)\n",
        "        self.bn3 = nn.InstanceNorm1d(256)\n",
        "        self.deco1 = nn.ConvTranspose2d(256,256,kernel_size=(1,1), stride=(1,1), bias=False)\n",
        "        self.deco2 = nn.ConvTranspose2d(384,128,kernel_size=(1,1), stride=(1,1), bias=False)\n",
        "        self.deco3 = nn.ConvTranspose2d(192,class_num,kernel_size=(1,1), stride=(1,1))\n",
        "\n",
        "        # Define Activation functions:\n",
        "        self.drop = nn.Dropout(0.2)\n",
        "        self.Lrelu = nn.LeakyReLU()\n",
        "        self.softmax = nn.Softmax(dim=-1)\n",
        "    def forward(self, x):\n",
        "        \"\"\"\n",
        "        Layers: 4\n",
        "        Activation Functions:\n",
        "        RELU for first two layers\n",
        "        Sigmoid for third layer\n",
        "        Log Softmax for last layer\n",
        "        \"\"\"\n",
        "        # import pdb;pdb.set_trace()\n",
        "        x = self.Conv1(x)\n",
        "        # x = x.view(int(x.shape[0]),int(x.shape[1]/2),2)\n",
        "        # x = self.bn1(x)\n",
        "        # x = x.view(int(x.shape[0]),int(x.shape[1]*x.shape[2]),1,1)\n",
        "        x = self.Lrelu(x)\n",
        "        x = self.drop(x)\n",
        "        op1 = x\n",
        "\n",
        "        x = self.Conv2(x)\n",
        "        # x = x.view(int(x.shape[0]),int(x.shape[1]/2),2)\n",
        "        # x = self.bn2(x)\n",
        "        # x = x.view(int(x.shape[0]),int(x.shape[1]*x.shape[2]),1,1)\n",
        "        x = self.Lrelu(x)\n",
        "        x = self.drop(x)\n",
        "        op2 = x\n",
        "\n",
        "        x = self.Conv3(x)\n",
        "        # x = x.view(int(x.shape[0]),int(x.shape[1]/2),2)\n",
        "        # x = self.bn3(x)\n",
        "        # x = x.view(int(x.shape[0]),int(x.shape[1]*x.shape[2]),1,1)\n",
        "        x = self.Lrelu(x)\n",
        "        x = self.drop(x)\n",
        "        op3 = x\n",
        "\n",
        "        x = self.deco1(x)\n",
        "        # x = x.view(int(x.shape[0]),int(x.shape[1]/2),2)\n",
        "        # x = self.bn3(x)\n",
        "        # x = x.view(int(x.shape[0]),int(x.shape[1]*x.shape[2]),1,1)\n",
        "        x = self.Lrelu(x)\n",
        "        x = self.drop(x)\n",
        "        x = torch.cat((x, op2), dim=1)\n",
        "\n",
        "        x = self.deco2(x)\n",
        "        # x = x.view(int(x.shape[0]),int(x.shape[1]/2),2)\n",
        "        # x = self.bn2(x)\n",
        "        # x = x.view(int(x.shape[0]),int(x.shape[1]*x.shape[2]),1,1)\n",
        "        x = self.Lrelu(x)\n",
        "        x = self.drop(x)\n",
        "        x = torch.cat((x, op1), dim=1)\n",
        "\n",
        "        x = self.deco3(x)\n",
        "        x = torch.reshape(x, (x.shape[0], self.class_num))\n",
        "\n",
        "        if(self.want_logits):\n",
        "          return x\n",
        "        else:\n",
        "          x = self.softmax(x)\n",
        "          return x"
      ]
    },
    {
      "cell_type": "markdown",
      "metadata": {
        "id": "O92AlyxlMCms"
      },
      "source": [
        "#### Discrim+Ensemble Network"
      ]
    },
    {
      "cell_type": "markdown",
      "metadata": {
        "id": "ugsgJSAxtJLA"
      },
      "source": [
        "##### Loss Function"
      ]
    },
    {
      "cell_type": "markdown",
      "metadata": {
        "id": "MYyoxeQzL0h2"
      },
      "source": [
        "Custom Disciminator Loss Function"
      ]
    },
    {
      "cell_type": "code",
      "execution_count": null,
      "metadata": {
        "id": "acL8T_ikL0yO"
      },
      "outputs": [],
      "source": [
        "def custom_loss_dis(discriminator,\n",
        "                    output_dis,\n",
        "                    x,\n",
        "                    y,\n",
        "                    c,\n",
        "                    O_v,\n",
        "                    num_attacks,\n",
        "                    lam=None,\n",
        "                    beta=1.0):\n",
        "    # define cross entropy loss\n",
        "    ce = torch.nn.CrossEntropyLoss()\n",
        "    output_dis_orig = output_dis\n",
        "\n",
        "    # Get Discriminator term 3\n",
        "    term3 = (beta * ce(output_dis_orig, c))\n",
        "\n",
        "\n",
        "\n",
        "    # Get Discriminator term 2\n",
        "    if lam != None or lam[0] != 0:\n",
        "        _, predicted_dis_orig = torch.max(output_dis.data, 1)\n",
        "        output_dis = output_dis.cpu().detach().numpy()\n",
        "        predicted_dis = predicted_dis_orig.cpu().detach().numpy()\n",
        "\n",
        "\n",
        "\n",
        "        #Get O_k\n",
        "        O_k = []\n",
        "        for i in range(num_attacks):\n",
        "            mask = predicted_dis_orig.eq(i).to(device)\n",
        "            indexes = torch.arange(0, predicted_dis_orig.shape[0]).type(torch.LongTensor).to(device)\n",
        "            masked_indexes = torch.masked_select(indexes,mask).type(torch.LongTensor).to(device)\n",
        "            O_k.append(torch.index_select(output_dis_orig, 0, masked_indexes).cpu().detach().numpy())\n",
        "\n",
        "\n",
        "        #Calculate term2\n",
        "        term2 = [] * num_attacks\n",
        "        for i in range(num_attacks):\n",
        "            term2.append(lam[i]*cka(np.array(O_v).T, np.array(O_k[i]).T))\n",
        "            if np.isnan(term2[-1]):\n",
        "                term2[-1] = 1\n",
        "        term2_sum = torch.sum(torch.tensor(term2))\n",
        "\n",
        "\n",
        "        # calculate custom loss\n",
        "        loss = term2_sum + term3\n",
        "\n",
        "        return loss, term2\n",
        "    else:\n",
        "        return term3, 0"
      ]
    },
    {
      "cell_type": "markdown",
      "metadata": {
        "id": "QzhYGHJ7esCZ"
      },
      "source": [
        "Model Generation"
      ]
    },
    {
      "cell_type": "markdown",
      "metadata": {
        "id": "rSNwbEvhtOFQ"
      },
      "source": [
        "##### Model stuff"
      ]
    },
    {
      "cell_type": "markdown",
      "metadata": {
        "id": "lxqROYA2qzHv"
      },
      "source": [
        "Full Train Test Function"
      ]
    },
    {
      "cell_type": "code",
      "execution_count": null,
      "metadata": {
        "id": "w83ODQS-q1aW"
      },
      "outputs": [],
      "source": [
        "def single_train_test(train_loader, test_loader, alpha, beta, lam, num_attacks = 3, num_epochs=20, class_num=13, learning_rate=0.001):\n",
        "\n",
        "    for i, (images, labels, a_labels) in enumerate(train_loader):\n",
        "        in_shape = images.shape[1]\n",
        "        break\n",
        "\n",
        "    # Create Models and send to correct device\n",
        "    discriminator = UNet(in_shape,num_attacks)  # Intialize the NN\n",
        "    ensemble_models = []\n",
        "    for i in range(num_attacks):\n",
        "        ensemble_models.append(UNet(in_shape,class_num))\n",
        "        ensemble_models[i] = ensemble_models[i].to(device)\n",
        "    discriminator = discriminator.to(device)\n",
        "\n",
        "    # Create optimizer\n",
        "    optimizer_dis = optim.Adam(discriminator.parameters(), lr=learning_rate)\n",
        "    optimizers_en = []\n",
        "    for i in range(num_attacks):\n",
        "        optimizers_en.append(optim.Adam(ensemble_models[i].parameters(), lr=learning_rate))\n",
        "\n",
        "\t#Create scheduelers\n",
        "    scheduler_dis = optim.lr_scheduler.CosineAnnealingLR(optimizer_dis, T_max=200)\n",
        "    schedulers_en = []\n",
        "    for i in range(num_attacks):\n",
        "        schedulers_en.append(optim.lr_scheduler.CosineAnnealingLR(optimizers_en[i], T_max=200))\n",
        "\n",
        "    ce = torch.nn.CrossEntropyLoss()\n",
        "\n",
        "\n",
        "    # Set parameters for training\n",
        "    if alpha == None:\n",
        "        alpha = [1.0] * num_attacks\n",
        "\n",
        "    if lam == None:\n",
        "        lam = [1.0] * num_attacks\n",
        "\n",
        "    train_running_loss = [] * num_epochs\n",
        "    train_dis_loss = [] * num_epochs\n",
        "    train_en_loss = [] * num_epochs\n",
        "\n",
        "    dis_running_acc = [] * num_epochs\n",
        "    en_running_acc = [] * num_epochs\n",
        "\n",
        "    ckas = []\n",
        "\n",
        "    # Set parameters for testing\n",
        "    test_dis_running_acc = [] * num_epochs\n",
        "    test_en_running_acc = [] * num_epochs\n",
        "\n",
        "\n",
        "\n",
        "\n",
        "    for epoch in range(num_epochs):\n",
        "\n",
        "        #Training Stuff\n",
        "        temp_loss = 0\n",
        "        temp_dis_loss = 0\n",
        "        temp_en_loss = 0\n",
        "\n",
        "        correct_dis = 0\n",
        "        total_dis = 0\n",
        "        correct_en = 0\n",
        "        total_en = 0\n",
        "\n",
        "        ckas.append([])\n",
        "\n",
        "        #Testing Stuff\n",
        "        correct_test_en = 0\n",
        "        total_test_en = 0\n",
        "        correct_test_dis = 0\n",
        "        total_test_dis = 0\n",
        "\n",
        "\n",
        "\n",
        "\n",
        "        ## training step\n",
        "\n",
        "        # Set networks to train\n",
        "        discriminator.train()\n",
        "        for i in range(num_attacks):\n",
        "            ensemble_models[i].train()\n",
        "\n",
        "        for idx, (images, labels, a_labels) in enumerate(train_loader):\n",
        "\n",
        "            # print(\"On batch: \",idx)\n",
        "\n",
        "            images = images.clone().detach().requires_grad_(True)\n",
        "            labels = labels.clone().detach().requires_grad_(True)\n",
        "            a_labels = a_labels.clone().detach().requires_grad_(True)\n",
        "\n",
        "            labels = labels.type(torch.LongTensor)  # casting to long\n",
        "            a_labels = a_labels.type(torch.LongTensor)  # casting to long\n",
        "\n",
        "            images = images.to(device)\n",
        "            labels = labels.to(device)\n",
        "            a_labels = a_labels.to(device)\n",
        "\n",
        "            ckas[epoch].append([])\n",
        "\n",
        "\n",
        "            # Calculate gradient and update weights of discriminator network\n",
        "            optimizer_dis.zero_grad()\n",
        "            output_dis = discriminator(images)\n",
        "            loss_dis, curr_ckas = custom_loss_dis(discriminator,\n",
        "                                       output_dis,\n",
        "                                       images,\n",
        "                                       labels,\n",
        "                                       a_labels,\n",
        "                                       O_v,\n",
        "                                       num_attacks,\n",
        "                                       lam=lam,\n",
        "                                       beta=beta)\n",
        "            #print(\"Curr CKAs: \",curr_ckas)\n",
        "            loss_dis.backward()\n",
        "            optimizer_dis.step()\n",
        "            temp_dis_loss += loss_dis.detach().item()\n",
        "            total_dis += a_labels.size(0)\n",
        "            _, predicted_dis = torch.max(output_dis.data, 1)\n",
        "            correct_dis += (predicted_dis == a_labels).sum().item()\n",
        "\n",
        "            ckas[epoch][idx].append(curr_ckas)\n",
        "\n",
        "\n",
        "             \n",
        "\n",
        "\n",
        "            # Calculate gradient and update weights of ensemble network\n",
        "            temp_en_loss_step = 0\n",
        "            for i in range(num_attacks):\n",
        "                optimizers_en[i].zero_grad()\n",
        "\n",
        "\n",
        "                mask = predicted_dis.eq(i).to(device)\n",
        "                indexes = torch.arange(0, predicted_dis.shape[0]).type(torch.LongTensor).to(device)\n",
        "                masked_indexes = torch.masked_select(indexes,mask).type(torch.LongTensor).to(device)\n",
        "                temp_images = torch.index_select(images, 0, masked_indexes)\n",
        "                temp_labels = torch.index_select(labels, 0, masked_indexes)\n",
        "\n",
        "                \n",
        "                total_en += temp_labels.size(0)\n",
        "                if temp_labels.shape[0] >= 1:\n",
        "                    output_en = ensemble_models[i](temp_images)\n",
        "                    loss_en = (alpha[i] * ce(output_en, temp_labels))\n",
        "                    loss_en.backward()\n",
        "                    optimizers_en[i].step()\n",
        "                    temp_en_loss_step += loss_en\n",
        "                    _, predicted_en = torch.max(output_en.data, 1)\n",
        "                    correct_en += (predicted_en == temp_labels).sum().item()\n",
        "            temp_en_loss += temp_en_loss_step.detach().item()\n",
        "\n",
        "\n",
        "             \n",
        "\n",
        "\n",
        "\n",
        "            # Add both losses together for total loss function\n",
        "            temp_loss += temp_dis_loss + temp_en_loss\n",
        "\n",
        "\n",
        "\n",
        "\n",
        "\n",
        "        ## Testing step\n",
        "\n",
        "        #Set each network to eval\n",
        "        discriminator.eval()\n",
        "        for i in range(num_attacks):\n",
        "            ensemble_models[i].eval()\n",
        "\n",
        "        for idx, (images, labels, a_labels) in enumerate(test_loader):\n",
        "\n",
        "            #Get data\n",
        "            images = images.clone().detach().requires_grad_(True)\n",
        "            labels = labels.clone().detach().requires_grad_(True)\n",
        "            a_labels = a_labels.clone().detach().requires_grad_(True)\n",
        "\n",
        "            #Send data to device\n",
        "            images = images.to(device)\n",
        "            labels = labels.to(device)\n",
        "            a_labels = a_labels.to(device)\n",
        "\n",
        "            #discriminator output\n",
        "            output_dis = discriminator(images)\n",
        "            _, predicted_dis = torch.max(output_dis.data, 1)\n",
        "            total_test_dis += a_labels.size(0)\n",
        "            correct_test_dis += (predicted_dis == a_labels).sum().item()\n",
        "\n",
        "\n",
        "\n",
        "\n",
        "            for i in range(num_attacks):\n",
        "\n",
        "                mask = predicted_dis.eq(i).to(device)\n",
        "                indexes = torch.arange(0, predicted_dis.shape[0]).type(torch.LongTensor).to(device)\n",
        "                masked_indexes = torch.masked_select(indexes,mask).type(torch.LongTensor).to(device)\n",
        "                temp_images = torch.index_select(images, 0, masked_indexes)\n",
        "                temp_labels = torch.index_select(labels, 0, masked_indexes)\n",
        "\n",
        "                total_test_en += temp_labels.size(0)\n",
        "                if temp_labels.shape[0] >= 1:\n",
        "                    output_en = ensemble_models[i](temp_images)\n",
        "                    _, predicted_test_en = torch.max(output_en.data, 1)\n",
        "                    correct_test_en += (predicted_test_en == temp_labels).sum().item()\n",
        "\n",
        "\n",
        "\n",
        "\n",
        "\n",
        "        train_dis_loss.append(temp_dis_loss / idx)\n",
        "        train_en_loss.append(temp_en_loss / idx)\n",
        "        train_running_loss.append(train_dis_loss[-1] + train_en_loss[-1])\n",
        "\n",
        "        if total_dis == 0:\n",
        "            dis_running_acc.append(0)\n",
        "        else: \n",
        "            dis_running_acc.append((100 * correct_dis / total_dis))\n",
        "\n",
        "        if total_en == 0:\n",
        "            en_running_acc.append(0)\n",
        "        else:\n",
        "            en_running_acc.append((100 * correct_en / total_en))\n",
        "\n",
        "        if total_test_dis == 0:\n",
        "            test_dis_running_acc.append(0)\n",
        "        else:        \n",
        "            test_dis_running_acc.append(100 * (correct_test_dis/total_test_dis))\n",
        "        \n",
        "        if total_test_en == 0 :\n",
        "            test_en_running_acc.append(0)\n",
        "        else:\n",
        "            test_en_running_acc.append(100 * (correct_test_en/total_test_en))\n",
        "\n",
        "\n",
        "\t\t#Step Schedulers\n",
        "        scheduler_dis.step()\n",
        "        for i in range(num_attacks):\n",
        "            schedulers_en[i].step()\n",
        "\n",
        "        \n",
        "        print('Epoch: %d | Discrim Loss: %.4f | Ensemble Loss: %.4f | Total Loss: %.4f | Discrim Acc: %.4f | Ensemble Acc: %.4f | Testing Discrim Acc: %.4f | Testing Ensemble Acc: %.4f' \\\n",
        "              % (epoch, train_dis_loss[epoch], train_en_loss[epoch], train_running_loss[epoch], dis_running_acc[epoch], en_running_acc[epoch],test_dis_running_acc[epoch],test_en_running_acc[epoch]))\n",
        "\n",
        "    return discriminator, ensemble_models, train_running_loss, dis_running_acc, en_running_acc, train_dis_loss, train_en_loss, ckas, test_dis_running_acc, test_en_running_acc\n"
      ]
    },
    {
      "cell_type": "markdown",
      "metadata": {
        "id": "xKf5NtzLL9ot"
      },
      "source": [
        "## CKA Functions"
      ]
    },
    {
      "cell_type": "markdown",
      "metadata": {
        "id": "xs_wiZEjMK3l"
      },
      "source": [
        "All equations come from: https://github.com/yuanli2333\n",
        "\n",
        "Paper: https://arxiv.org/abs/1905.00414"
      ]
    },
    {
      "cell_type": "code",
      "execution_count": null,
      "metadata": {
        "id": "9deXWw7iF306"
      },
      "outputs": [],
      "source": [
        "# ## CKA Functions\n",
        "\n",
        "def centering(K):\n",
        "    n = K.shape[0]\n",
        "    unit = np.ones([n, n])\n",
        "    I = np.eye(n)\n",
        "    H = I - unit / n\n",
        "\n",
        "    return np.dot(np.dot(H, K), H)  # HKH are the same with KH, KH is the first centering, H(KH) do the second time, results are the sme with one time centering\n",
        "    # return np.dot(H, K)  # KH\n",
        "\n",
        "\n",
        "def rbf(X, sigma=None):\n",
        "    GX = np.dot(X, X.T)\n",
        "    KX = np.diag(GX) - GX + (np.diag(GX) - GX).T\n",
        "    if sigma is None:\n",
        "        mdist = np.median(KX[KX != 0])\n",
        "        sigma = math.sqrt(mdist)\n",
        "    KX *= - 0.5 / (sigma * sigma)\n",
        "    KX = np.exp(KX)\n",
        "    return KX\n",
        "\n",
        "\n",
        "def kernel_HSIC(X, Y, sigma):\n",
        "    return np.sum((rbf(X, sigma)) * (rbf(Y, sigma)))\n",
        "\n",
        "\n",
        "def linear_HSIC(X, Y):\n",
        "    L_X = np.dot(X, X.T)\n",
        "    L_Y = np.dot(Y, Y.T)\n",
        "    return np.sum((L_X) * (L_Y))\n",
        "\n",
        "\n",
        "def cka(X, Y):\n",
        "    hsic = linear_HSIC(X, Y)\n",
        "    var1 = np.sqrt(linear_HSIC(X, X))\n",
        "    var2 = np.sqrt(linear_HSIC(Y, Y))\n",
        "\n",
        "    return hsic / (var1 * var2)\n",
        "\n",
        "\n",
        "def cka_rbf(X, Y, sigma=None):\n",
        "    hsic = kernel_HSIC(X, Y, sigma)\n",
        "    var1 = np.sqrt(kernel_HSIC(X, X, sigma))\n",
        "    var2 = np.sqrt(kernel_HSIC(Y, Y, sigma))\n",
        "\n",
        "    return hsic / (var1 * var2)\n"
      ]
    },
    {
      "cell_type": "markdown",
      "metadata": {
        "id": "i12WCe6fL0fl"
      },
      "source": [
        "## Training"
      ]
    },
    {
      "cell_type": "markdown",
      "metadata": {
        "id": "saYBPm41Cenm"
      },
      "source": [
        "### Loading Data"
      ]
    },
    {
      "cell_type": "code",
      "execution_count": null,
      "metadata": {
        "colab": {
          "base_uri": "https://localhost:8080/"
        },
        "id": "1DEQNu76cXwO",
        "outputId": "0b9d6f09-180c-4d3f-981d-f14ecb7247f5"
      },
      "outputs": [
        {
          "name": "stdout",
          "output_type": "stream",
          "text": [
            "Vanilia Data Shape\n",
            "(3917, 30, 1, 1)\n",
            "(3917,)\n",
            "(1306, 30, 1, 1)\n",
            "(1306,)\n",
            "\n",
            "\n",
            "FGSM Data Shape\n",
            "(3917, 30, 1, 1)\n",
            "(3917,)\n",
            "(1306, 30, 1, 1)\n",
            "(1306,)\n",
            "\n",
            "\n",
            "CW Data Shape\n",
            "(3917, 30, 1, 1)\n",
            "(3917,)\n",
            "(1306, 30, 1, 1)\n",
            "(1306,)\n",
            "\n",
            "\n",
            "PGD Data Shape\n",
            "(3917, 30, 1, 1)\n",
            "(3917,)\n",
            "(1306, 30, 1, 1)\n",
            "(1306,)\n",
            "\n",
            "\n",
            "I-FGSM Data Shape\n",
            "(3917, 30, 1, 1)\n",
            "(3917,)\n",
            "(1306, 30, 1, 1)\n",
            "(1306,)\n",
            "\n",
            "\n",
            "Attacks Used This Run\n",
            "FGSM\n",
            "CW\n",
            "PGD\n",
            "I-FGSM\n",
            "VANILA\n",
            "\n",
            "\n",
            "Combined Data Shape\n",
            "(5, 3917, 30, 1, 1)\n",
            "(5, 1306, 30, 1, 1)\n",
            "Combined Class Label Shape\n",
            "(5, 3917)\n",
            "(5, 1306)\n",
            "Combined Attack Label Shape\n",
            "(5, 3917)\n",
            "(5, 1306)\n",
            "\n",
            "\n"
          ]
        }
      ],
      "source": [
        "# Load vanilia and attacked datasets \n",
        "\n",
        "# vanilia\n",
        "vanilia_train_data = np.load('{}VANILLA/x_train.npy'.format(PATH))\n",
        "vanilia_train_labels = np.load('{}VANILLA/y_train.npy'.format(PATH))\n",
        "vanilia_test_data = np.load('{}VANILLA/x_test.npy'.format(PATH))\n",
        "vanilia_test_labels = np.load('{}VANILLA/y_test.npy'.format(PATH))\n",
        "\n",
        "\"My name is {}, I'm {}\".format(\"John\",36)\n",
        "\n",
        "print(\"Vanilia Data Shape\")\n",
        "print(vanilia_train_data.shape)\n",
        "print(vanilia_train_labels.shape)\n",
        "print(vanilia_test_data.shape)\n",
        "print(vanilia_test_labels.shape)\n",
        "print(\"\\n\")\n",
        "\n",
        "# fgsm\n",
        "fgsm_train_data = np.load('{}FGSM/x_adv_train.npy'.format(PATH))\n",
        "fgsm_train_labels = np.load('{}FGSM/y_train.npy'.format(PATH))\n",
        "fgsm_test_data = np.load('{}FGSM/x_adv_test.npy'.format(PATH))\n",
        "fgsm_test_labels = np.load('{}FGSM/y_test.npy'.format(PATH))\n",
        "\n",
        "print(\"FGSM Data Shape\")\n",
        "print(fgsm_train_data.shape)\n",
        "print(fgsm_train_labels.shape)\n",
        "print(fgsm_test_data.shape)\n",
        "print(fgsm_test_labels.shape)\n",
        "print(\"\\n\")\n",
        "\n",
        "\n",
        "#C_W\n",
        "\n",
        "cw_train_data = np.load('{}CW/x_adv_train.npy'.format(PATH))\n",
        "cw_train_labels = np.load('{}CW/y_train.npy'.format(PATH))\n",
        "cw_test_data = np.load('{}CW/x_adv_test.npy'.format(PATH))\n",
        "cw_test_labels = np.load('{}CW/y_test.npy'.format(PATH))\n",
        "\n",
        "print(\"CW Data Shape\")\n",
        "print(cw_train_data.shape)\n",
        "print(cw_train_labels.shape)\n",
        "print(cw_test_data.shape)\n",
        "print(cw_test_labels.shape)\n",
        "print(\"\\n\")\n",
        "\n",
        "#pgd\n",
        "\n",
        "pgd_train_data = np.load('{}PGD/x_adv_train.npy'.format(PATH))\n",
        "pgd_train_labels = np.load('{}PGD/y_train.npy'.format(PATH))\n",
        "pgd_test_data = np.load('{}PGD/x_adv_test.npy'.format(PATH))\n",
        "pgd_test_labels = np.load('{}PGD/y_test.npy'.format(PATH))\n",
        "\n",
        "print(\"PGD Data Shape\")\n",
        "print(pgd_train_data.shape)\n",
        "print(pgd_train_labels.shape)\n",
        "print(pgd_test_data.shape)\n",
        "print(pgd_test_labels.shape)\n",
        "print(\"\\n\")\n",
        "\n",
        "\n",
        "#ifgsm\n",
        "\n",
        "ifgsm_train_data = np.load('{}I-FGSM/x_adv_train.npy'.format(PATH))\n",
        "ifgsm_train_labels = np.load('{}I-FGSM/y_train.npy'.format(PATH))\n",
        "ifgsm_test_data = np.load('{}I-FGSM/x_adv_test.npy'.format(PATH))\n",
        "ifgsm_test_labels = np.load('{}I-FGSM/y_test.npy'.format(PATH))\n",
        "\n",
        "print(\"I-FGSM Data Shape\")\n",
        "print(ifgsm_train_data.shape)\n",
        "print(ifgsm_train_labels.shape)\n",
        "print(ifgsm_test_data.shape)\n",
        "print(ifgsm_test_labels.shape)\n",
        "print(\"\\n\")\n",
        "\n",
        "# Get attack labels\n",
        "\n",
        "\n",
        "y_discrim_train = [] * num_attacks\n",
        "y_discrim_test = [] * num_attacks\n",
        "for i in range(num_attacks):\n",
        "    temp = []\n",
        "    temp_2 = []\n",
        "    for j in range(np.shape(vanilia_train_data)[0]):\n",
        "        temp.append(i)\n",
        "    y_discrim_train.append(temp)\n",
        "    for j in range(np.shape(vanilia_test_data)[0]):\n",
        "        temp_2.append(i)\n",
        "    y_discrim_test.append(temp_2)\n",
        "\n",
        "\n",
        "a_train = np.array(y_discrim_train)\n",
        "a_test = np.array(y_discrim_test)\n",
        "\n",
        "\n",
        "\n",
        "names = []\n",
        "\n",
        "# Create master arrays\n",
        "x_train = [None] * num_attacks\n",
        "x_test = [None] * num_attacks\n",
        "y_train = [None] * num_attacks\n",
        "y_test = [None] * num_attacks\n",
        "\n",
        "# Merge data and labels\n",
        "if num_attacks > 0:\n",
        "\tx_train[0] = fgsm_train_data\n",
        "\ty_train[0] = fgsm_train_labels\n",
        "\tx_test[0] = fgsm_test_data\n",
        "\ty_test[0] = fgsm_test_labels\n",
        "if num_attacks > 1:\n",
        "\tx_train[1] = cw_train_data\n",
        "\ty_train[1] = cw_train_labels\n",
        "\tx_test[1] = cw_test_data\n",
        "\ty_test[1] = cw_test_labels\n",
        "if num_attacks > 2:\n",
        "\tx_train[2] = pgd_train_data\n",
        "\ty_train[2] = pgd_train_labels\n",
        "\tx_test[2] = pgd_test_data\n",
        "\ty_test[2] = pgd_test_labels\n",
        "if num_attacks > 3:\n",
        "\tx_train[3] = ifgsm_train_data\n",
        "\ty_train[3] = ifgsm_train_labels\n",
        "\tx_test[3] = ifgsm_test_data\n",
        "\ty_test[3] = ifgsm_test_labels\n",
        "if num_attacks > 4:\n",
        "\tx_train[4] = vanilia_train_data\n",
        "\ty_train[4] = vanilia_train_labels\n",
        "\tx_test[4] = vanilia_test_data\n",
        "\ty_test[4] = vanilia_test_labels\n",
        "\n",
        "\n",
        "# Get names and print\n",
        "print(\"Attacks Used This Run\")\n",
        "for i in range(num_attacks):\n",
        "    names.append(attack_types[i])\n",
        "    print(names[i])\n",
        "print(\"\\n\")\n",
        "\n",
        "\n",
        "# Show attacked data shape\n",
        "\n",
        "\n",
        "print(\"Combined Data Shape\")\n",
        "print(np.shape(x_train))\n",
        "print(np.shape(x_test))\n",
        "print(\"Combined Class Label Shape\")\n",
        "print(np.shape(y_train))\n",
        "print(np.shape(y_test))\n",
        "print(\"Combined Attack Label Shape\")\n",
        "print(np.shape(a_train))\n",
        "print(np.shape(a_test))\n",
        "print(\"\\n\")\n",
        "\n"
      ]
    },
    {
      "cell_type": "markdown",
      "metadata": {
        "id": "Eu3hGHDHCm5Y"
      },
      "source": [
        "### Getting O_V"
      ]
    },
    {
      "cell_type": "code",
      "execution_count": null,
      "metadata": {
        "colab": {
          "base_uri": "https://localhost:8080/"
        },
        "id": "Yu-lK7nRCm_Y",
        "outputId": "51984ac9-6d7e-4c9e-eac9-c8eb266bdf46"
      },
      "outputs": [
        {
          "name": "stderr",
          "output_type": "stream",
          "text": [
            "\r  0%|          | 0/25 [00:00<?, ?it/s]"
          ]
        },
        {
          "name": "stdout",
          "output_type": "stream",
          "text": [
            "\n",
            "Epoch: 0\n"
          ]
        },
        {
          "name": "stderr",
          "output_type": "stream",
          "text": [
            "\r  4%|▍         | 1/25 [00:03<01:24,  3.52s/it]"
          ]
        },
        {
          "name": "stdout",
          "output_type": "stream",
          "text": [
            "Loss: 1.236 | Acc: 49.083% (9613/19585)\n",
            "\n",
            "Epoch: 1\n"
          ]
        },
        {
          "name": "stderr",
          "output_type": "stream",
          "text": [
            "\r  8%|▊         | 2/25 [00:04<00:43,  1.90s/it]"
          ]
        },
        {
          "name": "stdout",
          "output_type": "stream",
          "text": [
            "Loss: 0.738 | Acc: 66.066% (12939/19585)\n",
            "\n",
            "Epoch: 2\n"
          ]
        },
        {
          "name": "stderr",
          "output_type": "stream",
          "text": [
            "\r 12%|█▏        | 3/25 [00:04<00:29,  1.32s/it]"
          ]
        },
        {
          "name": "stdout",
          "output_type": "stream",
          "text": [
            "Loss: 0.580 | Acc: 71.825% (14067/19585)\n",
            "\n",
            "Epoch: 3\n"
          ]
        },
        {
          "name": "stderr",
          "output_type": "stream",
          "text": [
            "\r 16%|█▌        | 4/25 [00:05<00:22,  1.07s/it]"
          ]
        },
        {
          "name": "stdout",
          "output_type": "stream",
          "text": [
            "Loss: 0.513 | Acc: 73.342% (14364/19585)\n",
            "\n",
            "Epoch: 4\n"
          ]
        },
        {
          "name": "stderr",
          "output_type": "stream",
          "text": [
            "\r 20%|██        | 5/25 [00:06<00:19,  1.03it/s]"
          ]
        },
        {
          "name": "stdout",
          "output_type": "stream",
          "text": [
            "Loss: 0.481 | Acc: 74.164% (14525/19585)\n",
            "\n",
            "Epoch: 5\n"
          ]
        },
        {
          "name": "stderr",
          "output_type": "stream",
          "text": [
            "\r 24%|██▍       | 6/25 [00:06<00:14,  1.31it/s]"
          ]
        },
        {
          "name": "stdout",
          "output_type": "stream",
          "text": [
            "Loss: 0.465 | Acc: 74.067% (14506/19585)\n",
            "\n",
            "Epoch: 6\n"
          ]
        },
        {
          "name": "stderr",
          "output_type": "stream",
          "text": [
            "\r 28%|██▊       | 7/25 [00:07<00:11,  1.58it/s]"
          ]
        },
        {
          "name": "stdout",
          "output_type": "stream",
          "text": [
            "Loss: 0.450 | Acc: 74.940% (14677/19585)\n",
            "\n",
            "Epoch: 7\n"
          ]
        },
        {
          "name": "stderr",
          "output_type": "stream",
          "text": [
            "\r 32%|███▏      | 8/25 [00:07<00:09,  1.85it/s]"
          ]
        },
        {
          "name": "stdout",
          "output_type": "stream",
          "text": [
            "Loss: 0.452 | Acc: 75.078% (14704/19585)\n",
            "\n",
            "Epoch: 8\n"
          ]
        },
        {
          "name": "stderr",
          "output_type": "stream",
          "text": [
            "\r 36%|███▌      | 9/25 [00:07<00:07,  2.06it/s]"
          ]
        },
        {
          "name": "stdout",
          "output_type": "stream",
          "text": [
            "Loss: 0.436 | Acc: 75.292% (14746/19585)\n",
            "\n",
            "Epoch: 9\n"
          ]
        },
        {
          "name": "stderr",
          "output_type": "stream",
          "text": [
            "\r 40%|████      | 10/25 [00:08<00:06,  2.25it/s]"
          ]
        },
        {
          "name": "stdout",
          "output_type": "stream",
          "text": [
            "Loss: 0.424 | Acc: 75.747% (14835/19585)\n",
            "\n",
            "Epoch: 10\n"
          ]
        },
        {
          "name": "stderr",
          "output_type": "stream",
          "text": [
            "\r 44%|████▍     | 11/25 [00:08<00:05,  2.40it/s]"
          ]
        },
        {
          "name": "stdout",
          "output_type": "stream",
          "text": [
            "Loss: 0.420 | Acc: 75.716% (14829/19585)\n",
            "\n",
            "Epoch: 11\n"
          ]
        },
        {
          "name": "stderr",
          "output_type": "stream",
          "text": [
            "\r 48%|████▊     | 12/25 [00:08<00:05,  2.53it/s]"
          ]
        },
        {
          "name": "stdout",
          "output_type": "stream",
          "text": [
            "Loss: 0.413 | Acc: 75.982% (14881/19585)\n",
            "\n",
            "Epoch: 12\n"
          ]
        },
        {
          "name": "stderr",
          "output_type": "stream",
          "text": [
            "\r 52%|█████▏    | 13/25 [00:09<00:04,  2.60it/s]"
          ]
        },
        {
          "name": "stdout",
          "output_type": "stream",
          "text": [
            "Loss: 0.413 | Acc: 76.084% (14901/19585)\n",
            "\n",
            "Epoch: 13\n"
          ]
        },
        {
          "name": "stderr",
          "output_type": "stream",
          "text": [
            "\r 56%|█████▌    | 14/25 [00:09<00:04,  2.67it/s]"
          ]
        },
        {
          "name": "stdout",
          "output_type": "stream",
          "text": [
            "Loss: 0.405 | Acc: 76.191% (14922/19585)\n",
            "\n",
            "Epoch: 14\n"
          ]
        },
        {
          "name": "stderr",
          "output_type": "stream",
          "text": [
            "\r 60%|██████    | 15/25 [00:09<00:03,  2.71it/s]"
          ]
        },
        {
          "name": "stdout",
          "output_type": "stream",
          "text": [
            "Loss: 0.404 | Acc: 76.002% (14885/19585)\n",
            "\n",
            "Epoch: 15\n"
          ]
        },
        {
          "name": "stderr",
          "output_type": "stream",
          "text": [
            "\r 64%|██████▍   | 16/25 [00:10<00:03,  2.71it/s]"
          ]
        },
        {
          "name": "stdout",
          "output_type": "stream",
          "text": [
            "Loss: 0.400 | Acc: 76.303% (14944/19585)\n",
            "\n",
            "Epoch: 16\n"
          ]
        },
        {
          "name": "stderr",
          "output_type": "stream",
          "text": [
            "\r 68%|██████▊   | 17/25 [00:10<00:02,  2.69it/s]"
          ]
        },
        {
          "name": "stdout",
          "output_type": "stream",
          "text": [
            "Loss: 0.397 | Acc: 76.426% (14968/19585)\n",
            "\n",
            "Epoch: 17\n"
          ]
        },
        {
          "name": "stderr",
          "output_type": "stream",
          "text": [
            "\r 72%|███████▏  | 18/25 [00:11<00:02,  2.76it/s]"
          ]
        },
        {
          "name": "stdout",
          "output_type": "stream",
          "text": [
            "Loss: 0.392 | Acc: 76.354% (14954/19585)\n",
            "\n",
            "Epoch: 18\n"
          ]
        },
        {
          "name": "stderr",
          "output_type": "stream",
          "text": [
            "\r 76%|███████▌  | 19/25 [00:11<00:02,  2.80it/s]"
          ]
        },
        {
          "name": "stdout",
          "output_type": "stream",
          "text": [
            "Loss: 0.390 | Acc: 76.676% (15017/19585)\n",
            "\n",
            "Epoch: 19\n"
          ]
        },
        {
          "name": "stderr",
          "output_type": "stream",
          "text": [
            "\r 80%|████████  | 20/25 [00:11<00:01,  2.80it/s]"
          ]
        },
        {
          "name": "stdout",
          "output_type": "stream",
          "text": [
            "Loss: 0.387 | Acc: 76.696% (15021/19585)\n",
            "\n",
            "Epoch: 20\n"
          ]
        },
        {
          "name": "stderr",
          "output_type": "stream",
          "text": [
            "\r 84%|████████▍ | 21/25 [00:12<00:01,  2.83it/s]"
          ]
        },
        {
          "name": "stdout",
          "output_type": "stream",
          "text": [
            "Loss: 0.384 | Acc: 76.890% (15059/19585)\n",
            "\n",
            "Epoch: 21\n"
          ]
        },
        {
          "name": "stderr",
          "output_type": "stream",
          "text": [
            "\r 88%|████████▊ | 22/25 [00:12<00:01,  2.83it/s]"
          ]
        },
        {
          "name": "stdout",
          "output_type": "stream",
          "text": [
            "Loss: 0.381 | Acc: 76.727% (15027/19585)\n",
            "\n",
            "Epoch: 22\n"
          ]
        },
        {
          "name": "stderr",
          "output_type": "stream",
          "text": [
            "\r 92%|█████████▏| 23/25 [00:12<00:00,  2.83it/s]"
          ]
        },
        {
          "name": "stdout",
          "output_type": "stream",
          "text": [
            "Loss: 0.380 | Acc: 76.936% (15068/19585)\n",
            "\n",
            "Epoch: 23\n"
          ]
        },
        {
          "name": "stderr",
          "output_type": "stream",
          "text": [
            "\r 96%|█████████▌| 24/25 [00:13<00:00,  2.86it/s]"
          ]
        },
        {
          "name": "stdout",
          "output_type": "stream",
          "text": [
            "Loss: 0.376 | Acc: 77.028% (15086/19585)\n",
            "\n",
            "Epoch: 24\n"
          ]
        },
        {
          "name": "stderr",
          "output_type": "stream",
          "text": [
            "100%|██████████| 25/25 [00:13<00:00,  1.85it/s]\n"
          ]
        },
        {
          "name": "stdout",
          "output_type": "stream",
          "text": [
            "Loss: 0.375 | Acc: 77.258% (15131/19585)\n",
            "Getting Activations\n"
          ]
        },
        {
          "name": "stderr",
          "output_type": "stream",
          "text": [
            "100%|██████████| 3917/3917 [00:03<00:00, 1062.43it/s]"
          ]
        },
        {
          "name": "stdout",
          "output_type": "stream",
          "text": [
            "\n",
            "Done O_v Training, O_v shape =  (3917, 5)\n"
          ]
        },
        {
          "name": "stderr",
          "output_type": "stream",
          "text": [
            "\n"
          ]
        }
      ],
      "source": [
        "# ### Getting O_v\n",
        "\n",
        "# In[23]:\n",
        "\n",
        "\n",
        "def unison_shuffled_copies(a, b):\n",
        "    assert len(a) == len(b)\n",
        "    p = np.random.permutation(len(a))\n",
        "    return a[p], b[p]\n",
        "\n",
        "\n",
        "def unison_shuffled_copies3(a, b, c):\n",
        "    assert len(a) == len(b)\n",
        "    assert len(a) == len(c)\n",
        "    p = np.random.permutation(len(a))\n",
        "    return a[p], b[p], c[p]\n",
        "\n",
        "\n",
        "\n",
        "O_v = []\n",
        "\n",
        "# get full data and shuffle\n",
        "if num_attacks == 2:\n",
        "\tgt = np.concatenate((np.array(a_train[0]), np.array(a_train[1])))\n",
        "\tdata = np.concatenate((np.array(x_train[0]), np.array(x_train[1])))\n",
        "elif num_attacks == 3:\n",
        "\tgt = np.concatenate((np.array(a_train[0]), np.array(a_train[1]), np.array(a_train[2])))\n",
        "\tdata = np.concatenate((np.array(x_train[0]), np.array(x_train[1]), np.array(x_train[2])))\n",
        "elif num_attacks == 4:\n",
        "\tgt = np.concatenate((np.array(a_train[0]), np.array(a_train[1]), np.array(a_train[2]), np.array(a_train[3])))\n",
        "\tdata = np.concatenate((np.array(x_train[0]), np.array(x_train[1]), np.array(x_train[2]), np.array(x_train[3])))\n",
        "elif num_attacks == 5:\n",
        "\tgt = np.concatenate((np.array(a_train[0]), np.array(a_train[1]), np.array(a_train[2]), np.array(a_train[3]), np.array(a_train[4])))\n",
        "\tdata = np.concatenate((np.array(x_train[0]), np.array(x_train[1]), np.array(x_train[2]), np.array(x_train[3]), np.array(x_train[4])))\n",
        "\n",
        "\n",
        "\n",
        "data, gt = unison_shuffled_copies(data, gt)\n",
        "\n",
        "# convert to Tensors\n",
        "gt = torch.Tensor(gt)  # Use attack labels because this is for the discriminator\n",
        "data = torch.Tensor(data)\n",
        "\n",
        "\n",
        "# create datasets\n",
        "dataset = data_utils.TensorDataset(data, gt)\n",
        "train_loader = data_utils.DataLoader(dataset, batch_size=batch, shuffle=False, pin_memory=True)\n",
        "\n",
        "# train discriminator\n",
        "for i, (images, labels) in enumerate(train_loader):\n",
        "    in_shape = images.shape[1]\n",
        "    break\n",
        "discriminator = UNet(in_shape,num_attacks)\n",
        "discriminator.to(device)\n",
        "criterion = nn.CrossEntropyLoss()\n",
        "optimizer = torch.optim.Adam(discriminator.parameters(), lr=0.001)\n",
        "scheduler = torch.optim.lr_scheduler.CosineAnnealingLR(optimizer, T_max=200)\n",
        "\n",
        "\n",
        "# Training\n",
        "def train_temp(epoch):\n",
        "    print('\\nEpoch: %d' % epoch)\n",
        "    discriminator.train()\n",
        "    train_loss = 0\n",
        "    correct = 0\n",
        "    total = 0\n",
        "    for batch_idx, (inputs, targets) in enumerate(train_loader):\n",
        "        targets = targets.type(torch.LongTensor)\n",
        "        inputs, targets = inputs.to(device), targets.to(device)\n",
        "        optimizer.zero_grad()\n",
        "        outputs = discriminator(inputs)\n",
        "        loss = criterion(outputs, targets)\n",
        "        loss.backward()\n",
        "        optimizer.step()\n",
        "\n",
        "        train_loss += loss.item()\n",
        "        _, predicted = outputs.max(1)\n",
        "        total += targets.size(0)\n",
        "        correct += predicted.eq(targets).sum().item()\n",
        "\n",
        "    print('Loss: %.3f | Acc: %.3f%% (%d/%d)' % (train_loss / (batch_idx + 1), 100. * correct / total, correct, total))\n",
        "\n",
        "\n",
        "for epoch in trange(o_v_epochs):\n",
        "    # for epoch in trange(1):\n",
        "    train_temp(epoch)\n",
        "    scheduler.step()\n",
        "\n",
        "print(\"Getting Activations\")\n",
        "for l in trange(np.shape(vanilia_train_data)[0]):\n",
        "    temp_input = torch.from_numpy(np.expand_dims(vanilia_train_data[l], 0))\n",
        "    temp_input = temp_input.type(torch.FloatTensor)\n",
        "    temp_input = temp_input.to(device)\n",
        "    temp_activation = discriminator(temp_input)\n",
        "    temp_activation = torch.squeeze(temp_activation)\n",
        "    O_v.append(temp_activation.cpu().detach().numpy())\n",
        "\n",
        "print(\"\\nDone O_v Training, O_v shape = \",np.shape(O_v))\n",
        "\n"
      ]
    },
    {
      "cell_type": "markdown",
      "metadata": {
        "id": "abPNCsZwCwFe"
      },
      "source": [
        "Get Full dataset"
      ]
    },
    {
      "cell_type": "code",
      "execution_count": null,
      "metadata": {
        "colab": {
          "base_uri": "https://localhost:8080/"
        },
        "id": "JDdKiVSKCwPe",
        "outputId": "44de7adf-374a-477e-e6cd-3511eb8aee08"
      },
      "outputs": [
        {
          "name": "stdout",
          "output_type": "stream",
          "text": [
            "Mixed Dataset Shapes\n",
            "Mixed Train Data Shape:  (19585, 30, 1, 1)\n",
            "Mixed Train Class Labels Shape:  (19585,)\n",
            "Mixed Train Attack Labels Shape:  (19585,)\n",
            "Mixed Test Data Shape:  (6530, 30, 1, 1)\n",
            "Mixed Test Class Labels Shape:  (6530,)\n",
            "Mixed Test Attack Labels Shape:  (6530,)\n",
            "\n",
            "\n"
          ]
        }
      ],
      "source": [
        "# get full data and shuffle\n",
        "if num_attacks == 2:\n",
        "\tgt_a = np.concatenate((np.array(a_train[0]), np.array(a_train[1])))\n",
        "\tdata = np.concatenate((np.array(x_train[0]), np.array(x_train[1])))\n",
        "\tgt = np.concatenate((np.array(y_train[0]), np.array(y_train[1])))\n",
        "\n",
        "\tgt_a_t = np.concatenate((np.array(a_test[0]), np.array(a_test[1])))\n",
        "\tdata_t = np.concatenate((np.array(x_test[0]), np.array(x_test[1])))\n",
        "\tgt_t = np.concatenate((np.array(y_test[0]), np.array(y_test[1])))\n",
        "elif num_attacks == 3:\n",
        "\tgt_a = np.concatenate((np.array(a_train[0]), np.array(a_train[1]), np.array(a_train[2])))\n",
        "\tdata = np.concatenate((np.array(x_train[0]), np.array(x_train[1]), np.array(x_train[2])))\n",
        "\tgt = np.concatenate((np.array(y_train[0]), np.array(y_train[1]), np.array(y_train[2])))\n",
        "\n",
        "\tgt_a_t = np.concatenate((np.array(a_test[0]), np.array(a_test[1]), np.array(a_test[2])))\n",
        "\tdata_t = np.concatenate((np.array(x_test[0]), np.array(x_test[1]), np.array(x_test[2])))\n",
        "\tgt_t = np.concatenate((np.array(y_test[0]), np.array(y_test[1]), np.array(y_test[2])))\n",
        "elif num_attacks == 4:\n",
        "\tgt_a = np.concatenate((np.array(a_train[0]), np.array(a_train[1]), np.array(a_train[2]), np.array(a_train[3])))\n",
        "\tdata = np.concatenate((np.array(x_train[0]), np.array(x_train[1]), np.array(x_train[2]), np.array(x_train[3])))\n",
        "\tgt = np.concatenate((np.array(y_train[0]), np.array(y_train[1]), np.array(y_train[2]), np.array(y_train[3])))\n",
        "\n",
        "\tgt_a_t = np.concatenate((np.array(a_test[0]), np.array(a_test[1]), np.array(a_test[2]), np.array(a_test[3])))\n",
        "\tdata_t = np.concatenate((np.array(x_test[0]), np.array(x_test[1]), np.array(x_test[2]), np.array(x_test[3])))\n",
        "\tgt_t = np.concatenate((np.array(y_test[0]), np.array(y_test[1]), np.array(y_test[2]), np.array(y_test[3])))\n",
        "elif num_attacks == 5:\n",
        "\tgt_a = np.concatenate((np.array(a_train[0]), np.array(a_train[1]), np.array(a_train[2]), np.array(a_train[3]), np.array(a_train[4])))\n",
        "\tdata = np.concatenate((np.array(x_train[0]), np.array(x_train[1]), np.array(x_train[2]), np.array(x_train[3]), np.array(x_train[4])))\n",
        "\tgt = np.concatenate((np.array(y_train[0]), np.array(y_train[1]), np.array(y_train[2]), np.array(y_train[3]), np.array(y_train[4])))\n",
        "\n",
        "\tgt_a_t = np.concatenate((np.array(a_test[0]), np.array(a_test[1]), np.array(a_test[2]), np.array(a_test[3]), np.array(a_test[4])))\n",
        "\tdata_t = np.concatenate((np.array(x_test[0]), np.array(x_test[1]), np.array(x_test[2]), np.array(x_test[3]), np.array(x_test[4])))\n",
        "\tgt_t = np.concatenate((np.array(y_test[0]), np.array(y_test[1]), np.array(y_test[2]), np.array(y_test[3]), np.array(y_test[4])))\n",
        "\n",
        "\n",
        "data, gt, gt_a = unison_shuffled_copies3(data, gt, gt_a)\n",
        "data_t, gt_t, gt_a_t = unison_shuffled_copies3(data_t, gt_t, gt_a_t)\n",
        "\n",
        "#print shapes\n",
        "print(\"Mixed Dataset Shapes\")\n",
        "print(\"Mixed Train Data Shape: \", np.shape(data))\n",
        "print(\"Mixed Train Class Labels Shape: \", np.shape(gt))\n",
        "print(\"Mixed Train Attack Labels Shape: \", np.shape(gt_a))\n",
        "\n",
        "print(\"Mixed Test Data Shape: \", np.shape(data_t))\n",
        "print(\"Mixed Test Class Labels Shape: \", np.shape(gt_t))\n",
        "print(\"Mixed Test Attack Labels Shape: \", np.shape(gt_a_t))\n",
        "print(\"\\n\")\n",
        "\n",
        "\n",
        "# convert to Tensors\n",
        "gt = torch.Tensor(gt)\n",
        "data = torch.Tensor(data)\n",
        "gt_a = torch.Tensor(gt_a)\n",
        "\n",
        "gt_t = torch.Tensor(gt_t)\n",
        "data_t = torch.Tensor(data_t)\n",
        "gt_a_t = torch.Tensor(gt_a_t)\n",
        "\n",
        "\n",
        "# create datasets\n",
        "dataset = data_utils.TensorDataset(data, gt, gt_a)\n",
        "dataset_t = data_utils.TensorDataset(data_t, gt_t, gt_a_t)\n",
        "train_loader = data_utils.DataLoader(dataset, batch_size=batch, shuffle=False, pin_memory=True)\n",
        "test_loader = data_utils.DataLoader(dataset_t, batch_size=batch, shuffle=False, pin_memory=True)\n",
        "\n"
      ]
    },
    {
      "cell_type": "markdown",
      "metadata": {
        "id": "nQ4mjgSNC0_u"
      },
      "source": [
        "### Full Training"
      ]
    },
    {
      "cell_type": "code",
      "execution_count": null,
      "metadata": {
        "colab": {
          "base_uri": "https://localhost:8080/"
        },
        "id": "8J-606SvC1FQ",
        "outputId": "e51707a7-b9fb-418e-8b14-7dced0cf43d0"
      },
      "outputs": [
        {
          "name": "stderr",
          "output_type": "stream",
          "text": [
            "<ipython-input-6-61487f61db75>:39: RuntimeWarning: invalid value encountered in float_scalars\n",
            "  return hsic / (var1 * var2)\n"
          ]
        },
        {
          "name": "stdout",
          "output_type": "stream",
          "text": [
            "Epoch: 0 | Discrim Loss: 8.7666 | Ensemble Loss: 29.6714 | Total Loss: 38.4380 | Discrim Acc: 43.5997 | Ensemble Acc: 33.9903 | Testing Discrim Acc: 60.8882 | Testing Ensemble Acc: 53.9969\n",
            "Epoch: 1 | Discrim Loss: 11.0319 | Ensemble Loss: 19.3329 | Total Loss: 30.3648 | Discrim Acc: 65.5502 | Ensemble Acc: 56.2471 | Testing Discrim Acc: 72.3124 | Testing Ensemble Acc: 65.6968\n",
            "Epoch: 2 | Discrim Loss: 10.5249 | Ensemble Loss: 15.7012 | Total Loss: 26.2261 | Discrim Acc: 70.6510 | Ensemble Acc: 64.8660 | Testing Discrim Acc: 74.0735 | Testing Ensemble Acc: 69.7703\n",
            "Epoch: 3 | Discrim Loss: 10.3717 | Ensemble Loss: 13.8149 | Total Loss: 24.1866 | Discrim Acc: 72.2645 | Ensemble Acc: 68.5014 | Testing Discrim Acc: 74.9923 | Testing Ensemble Acc: 74.0888\n",
            "Epoch: 4 | Discrim Loss: 9.9985 | Ensemble Loss: 12.7248 | Total Loss: 22.7233 | Discrim Acc: 73.6022 | Ensemble Acc: 71.3607 | Testing Discrim Acc: 75.4824 | Testing Ensemble Acc: 75.5436\n",
            "Epoch: 5 | Discrim Loss: 10.0828 | Ensemble Loss: 11.9579 | Total Loss: 22.0407 | Discrim Acc: 74.2252 | Ensemble Acc: 73.1580 | Testing Discrim Acc: 75.7887 | Testing Ensemble Acc: 76.7994\n",
            "Epoch: 6 | Discrim Loss: 10.0377 | Ensemble Loss: 11.2191 | Total Loss: 21.2568 | Discrim Acc: 74.8073 | Ensemble Acc: 74.4958 | Testing Discrim Acc: 75.9265 | Testing Ensemble Acc: 76.5084\n",
            "Epoch: 7 | Discrim Loss: 10.1262 | Ensemble Loss: 10.7638 | Total Loss: 20.8900 | Discrim Acc: 75.1800 | Ensemble Acc: 75.3587 | Testing Discrim Acc: 75.8193 | Testing Ensemble Acc: 78.2848\n",
            "Epoch: 8 | Discrim Loss: 9.8542 | Ensemble Loss: 10.3756 | Total Loss: 20.2298 | Discrim Acc: 75.6599 | Ensemble Acc: 76.0378 | Testing Discrim Acc: 75.9265 | Testing Ensemble Acc: 78.9433\n",
            "Epoch: 9 | Discrim Loss: 9.8139 | Ensemble Loss: 9.9223 | Total Loss: 19.7361 | Discrim Acc: 75.3332 | Ensemble Acc: 77.2428 | Testing Discrim Acc: 76.2940 | Testing Ensemble Acc: 79.8009\n",
            "Epoch: 10 | Discrim Loss: 9.8093 | Ensemble Loss: 9.8641 | Total Loss: 19.6734 | Discrim Acc: 75.3127 | Ensemble Acc: 77.3041 | Testing Discrim Acc: 76.6156 | Testing Ensemble Acc: 79.9387\n",
            "Epoch: 11 | Discrim Loss: 9.8489 | Ensemble Loss: 9.5839 | Total Loss: 19.4327 | Discrim Acc: 75.5323 | Ensemble Acc: 77.9985 | Testing Discrim Acc: 76.6156 | Testing Ensemble Acc: 80.7657\n",
            "Epoch: 12 | Discrim Loss: 9.9216 | Ensemble Loss: 9.2566 | Total Loss: 19.1782 | Discrim Acc: 75.9459 | Ensemble Acc: 79.1830 | Testing Discrim Acc: 76.8606 | Testing Ensemble Acc: 80.7657\n",
            "Epoch: 13 | Discrim Loss: 9.9450 | Ensemble Loss: 9.1136 | Total Loss: 19.0586 | Discrim Acc: 76.0888 | Ensemble Acc: 79.5456 | Testing Discrim Acc: 76.9525 | Testing Ensemble Acc: 81.0107\n",
            "Epoch: 14 | Discrim Loss: 9.8152 | Ensemble Loss: 8.8658 | Total Loss: 18.6810 | Discrim Acc: 76.3492 | Ensemble Acc: 79.9132 | Testing Discrim Acc: 76.8300 | Testing Ensemble Acc: 81.5773\n",
            "Epoch: 15 | Discrim Loss: 9.8420 | Ensemble Loss: 8.6721 | Total Loss: 18.5141 | Discrim Acc: 76.6658 | Ensemble Acc: 80.2553 | Testing Discrim Acc: 77.2435 | Testing Ensemble Acc: 81.6080\n",
            "Epoch: 16 | Discrim Loss: 9.9085 | Ensemble Loss: 8.6121 | Total Loss: 18.5207 | Discrim Acc: 76.3390 | Ensemble Acc: 80.5923 | Testing Discrim Acc: 77.2741 | Testing Ensemble Acc: 81.6386\n",
            "Epoch: 17 | Discrim Loss: 9.9787 | Ensemble Loss: 8.3522 | Total Loss: 18.3309 | Discrim Acc: 76.4667 | Ensemble Acc: 81.1846 | Testing Discrim Acc: 77.2282 | Testing Ensemble Acc: 82.6187\n",
            "Epoch: 18 | Discrim Loss: 9.9332 | Ensemble Loss: 8.3763 | Total Loss: 18.3095 | Discrim Acc: 76.7373 | Ensemble Acc: 81.2459 | Testing Discrim Acc: 77.2435 | Testing Ensemble Acc: 82.5268\n",
            "Epoch: 19 | Discrim Loss: 9.9403 | Ensemble Loss: 8.1319 | Total Loss: 18.0722 | Discrim Acc: 76.9773 | Ensemble Acc: 81.7207 | Testing Discrim Acc: 77.3813 | Testing Ensemble Acc: 83.0322\n",
            "Epoch: 20 | Discrim Loss: 9.8696 | Ensemble Loss: 8.0721 | Total Loss: 17.9417 | Discrim Acc: 76.6250 | Ensemble Acc: 81.9964 | Testing Discrim Acc: 77.3966 | Testing Ensemble Acc: 82.7106\n",
            "Epoch: 21 | Discrim Loss: 9.9613 | Ensemble Loss: 7.9518 | Total Loss: 17.9131 | Discrim Acc: 76.8343 | Ensemble Acc: 82.0526 | Testing Discrim Acc: 77.6263 | Testing Ensemble Acc: 83.1087\n",
            "Epoch: 22 | Discrim Loss: 9.8572 | Ensemble Loss: 7.9608 | Total Loss: 17.8180 | Discrim Acc: 77.5491 | Ensemble Acc: 82.1496 | Testing Discrim Acc: 77.5038 | Testing Ensemble Acc: 83.1547\n",
            "Epoch: 23 | Discrim Loss: 9.7505 | Ensemble Loss: 7.6826 | Total Loss: 17.4331 | Discrim Acc: 77.6717 | Ensemble Acc: 82.3436 | Testing Discrim Acc: 77.7335 | Testing Ensemble Acc: 83.5988\n",
            "Epoch: 24 | Discrim Loss: 9.8033 | Ensemble Loss: 7.7496 | Total Loss: 17.5529 | Discrim Acc: 77.0692 | Ensemble Acc: 82.4406 | Testing Discrim Acc: 77.7489 | Testing Ensemble Acc: 83.2772\n",
            "Epoch: 25 | Discrim Loss: 9.8605 | Ensemble Loss: 7.7625 | Total Loss: 17.6229 | Discrim Acc: 77.2990 | Ensemble Acc: 82.6653 | Testing Discrim Acc: 77.5957 | Testing Ensemble Acc: 83.8132\n",
            "Epoch: 26 | Discrim Loss: 9.8508 | Ensemble Loss: 7.6419 | Total Loss: 17.4926 | Discrim Acc: 77.5236 | Ensemble Acc: 82.8389 | Testing Discrim Acc: 77.7795 | Testing Ensemble Acc: 83.4916\n",
            "Epoch: 27 | Discrim Loss: 9.8688 | Ensemble Loss: 7.5064 | Total Loss: 17.3752 | Discrim Acc: 77.5134 | Ensemble Acc: 83.1299 | Testing Discrim Acc: 77.7335 | Testing Ensemble Acc: 83.7825\n",
            "Epoch: 28 | Discrim Loss: 9.6876 | Ensemble Loss: 7.4504 | Total Loss: 17.1380 | Discrim Acc: 77.5185 | Ensemble Acc: 83.0585 | Testing Discrim Acc: 77.9479 | Testing Ensemble Acc: 84.0582\n",
            "Epoch: 29 | Discrim Loss: 9.8008 | Ensemble Loss: 7.3237 | Total Loss: 17.1245 | Discrim Acc: 77.2326 | Ensemble Acc: 83.1912 | Testing Discrim Acc: 77.8867 | Testing Ensemble Acc: 84.2420\n",
            "Epoch: 30 | Discrim Loss: 9.7335 | Ensemble Loss: 7.2935 | Total Loss: 17.0270 | Discrim Acc: 77.6513 | Ensemble Acc: 83.2065 | Testing Discrim Acc: 77.8560 | Testing Ensemble Acc: 84.5023\n",
            "Epoch: 31 | Discrim Loss: 9.7555 | Ensemble Loss: 7.3868 | Total Loss: 17.1423 | Discrim Acc: 77.7176 | Ensemble Acc: 83.4261 | Testing Discrim Acc: 77.8867 | Testing Ensemble Acc: 84.0582\n",
            "Epoch: 32 | Discrim Loss: 9.7368 | Ensemble Loss: 7.2929 | Total Loss: 17.0297 | Discrim Acc: 77.4164 | Ensemble Acc: 83.4618 | Testing Discrim Acc: 77.9020 | Testing Ensemble Acc: 84.3032\n",
            "Epoch: 33 | Discrim Loss: 9.7774 | Ensemble Loss: 7.1828 | Total Loss: 16.9602 | Discrim Acc: 77.4930 | Ensemble Acc: 83.7427 | Testing Discrim Acc: 77.9786 | Testing Ensemble Acc: 83.6447\n",
            "Epoch: 34 | Discrim Loss: 9.6965 | Ensemble Loss: 7.0494 | Total Loss: 16.7459 | Discrim Acc: 77.6717 | Ensemble Acc: 83.9061 | Testing Discrim Acc: 77.9326 | Testing Ensemble Acc: 83.8744\n",
            "Epoch: 35 | Discrim Loss: 9.8221 | Ensemble Loss: 6.9891 | Total Loss: 16.8112 | Discrim Acc: 77.7074 | Ensemble Acc: 83.8499 | Testing Discrim Acc: 77.9939 | Testing Ensemble Acc: 84.2113\n",
            "Epoch: 36 | Discrim Loss: 9.7181 | Ensemble Loss: 7.0103 | Total Loss: 16.7284 | Discrim Acc: 78.2078 | Ensemble Acc: 84.1665 | Testing Discrim Acc: 77.9479 | Testing Ensemble Acc: 84.7779\n",
            "Epoch: 37 | Discrim Loss: 9.5962 | Ensemble Loss: 6.8954 | Total Loss: 16.4916 | Discrim Acc: 77.7483 | Ensemble Acc: 84.0899 | Testing Discrim Acc: 78.0398 | Testing Ensemble Acc: 84.7473\n",
            "Epoch: 38 | Discrim Loss: 9.6197 | Ensemble Loss: 6.8730 | Total Loss: 16.4926 | Discrim Acc: 77.7176 | Ensemble Acc: 84.4779 | Testing Discrim Acc: 78.0858 | Testing Ensemble Acc: 84.7014\n",
            "Epoch: 39 | Discrim Loss: 9.7250 | Ensemble Loss: 6.8724 | Total Loss: 16.5974 | Discrim Acc: 78.0495 | Ensemble Acc: 84.6362 | Testing Discrim Acc: 77.9939 | Testing Ensemble Acc: 84.5023\n",
            "Epoch: 40 | Discrim Loss: 9.7458 | Ensemble Loss: 6.9044 | Total Loss: 16.6502 | Discrim Acc: 78.0802 | Ensemble Acc: 84.1818 | Testing Discrim Acc: 78.3767 | Testing Ensemble Acc: 85.2527\n",
            "Epoch: 41 | Discrim Loss: 9.6912 | Ensemble Loss: 6.9805 | Total Loss: 16.6717 | Discrim Acc: 78.0189 | Ensemble Acc: 84.3656 | Testing Discrim Acc: 77.9632 | Testing Ensemble Acc: 85.2527\n",
            "Epoch: 42 | Discrim Loss: 9.7667 | Ensemble Loss: 6.8320 | Total Loss: 16.5987 | Discrim Acc: 77.9832 | Ensemble Acc: 84.7128 | Testing Discrim Acc: 77.9479 | Testing Ensemble Acc: 85.2067\n",
            "Epoch: 43 | Discrim Loss: 9.6490 | Ensemble Loss: 6.7748 | Total Loss: 16.4238 | Discrim Acc: 77.9985 | Ensemble Acc: 84.6107 | Testing Discrim Acc: 78.0092 | Testing Ensemble Acc: 85.2680\n",
            "Epoch: 44 | Discrim Loss: 9.5639 | Ensemble Loss: 6.7542 | Total Loss: 16.3181 | Discrim Acc: 78.2589 | Ensemble Acc: 84.8660 | Testing Discrim Acc: 78.1623 | Testing Ensemble Acc: 85.7580\n",
            "Epoch: 45 | Discrim Loss: 9.6500 | Ensemble Loss: 6.6561 | Total Loss: 16.3061 | Discrim Acc: 77.7330 | Ensemble Acc: 84.7996 | Testing Discrim Acc: 78.3155 | Testing Ensemble Acc: 85.4671\n",
            "Epoch: 46 | Discrim Loss: 9.5781 | Ensemble Loss: 6.8060 | Total Loss: 16.3841 | Discrim Acc: 77.9372 | Ensemble Acc: 84.6464 | Testing Discrim Acc: 78.0704 | Testing Ensemble Acc: 84.8851\n",
            "Epoch: 47 | Discrim Loss: 9.6252 | Ensemble Loss: 6.5068 | Total Loss: 16.1321 | Discrim Acc: 77.8963 | Ensemble Acc: 85.1315 | Testing Discrim Acc: 78.0551 | Testing Ensemble Acc: 85.7121\n",
            "Epoch: 48 | Discrim Loss: 9.6200 | Ensemble Loss: 6.5196 | Total Loss: 16.1396 | Discrim Acc: 78.0393 | Ensemble Acc: 84.9426 | Testing Discrim Acc: 78.0858 | Testing Ensemble Acc: 85.5130\n",
            "Epoch: 49 | Discrim Loss: 9.5663 | Ensemble Loss: 6.4789 | Total Loss: 16.0452 | Discrim Acc: 78.3048 | Ensemble Acc: 85.2438 | Testing Discrim Acc: 78.3155 | Testing Ensemble Acc: 85.9724\n",
            "Epoch: 50 | Discrim Loss: 9.4739 | Ensemble Loss: 6.4754 | Total Loss: 15.9493 | Discrim Acc: 77.9934 | Ensemble Acc: 85.1213 | Testing Discrim Acc: 78.2389 | Testing Ensemble Acc: 85.8959\n",
            "Epoch: 51 | Discrim Loss: 9.3327 | Ensemble Loss: 6.5245 | Total Loss: 15.8572 | Discrim Acc: 78.0904 | Ensemble Acc: 85.1111 | Testing Discrim Acc: 78.1164 | Testing Ensemble Acc: 86.2481\n",
            "Epoch: 52 | Discrim Loss: 9.4707 | Ensemble Loss: 6.3101 | Total Loss: 15.7808 | Discrim Acc: 77.7279 | Ensemble Acc: 85.6574 | Testing Discrim Acc: 78.2542 | Testing Ensemble Acc: 86.0796\n",
            "Epoch: 53 | Discrim Loss: 9.4540 | Ensemble Loss: 6.5400 | Total Loss: 15.9939 | Discrim Acc: 78.0546 | Ensemble Acc: 85.4123 | Testing Discrim Acc: 78.2389 | Testing Ensemble Acc: 85.7734\n",
            "Epoch: 54 | Discrim Loss: 9.3497 | Ensemble Loss: 6.4745 | Total Loss: 15.8242 | Discrim Acc: 78.2691 | Ensemble Acc: 85.2642 | Testing Discrim Acc: 78.4074 | Testing Ensemble Acc: 85.9724\n",
            "Epoch: 55 | Discrim Loss: 9.2911 | Ensemble Loss: 6.5141 | Total Loss: 15.8052 | Discrim Acc: 77.7585 | Ensemble Acc: 85.6421 | Testing Discrim Acc: 78.1164 | Testing Ensemble Acc: 86.1715\n",
            "Epoch: 56 | Discrim Loss: 9.1302 | Ensemble Loss: 6.4299 | Total Loss: 15.5601 | Discrim Acc: 78.3763 | Ensemble Acc: 85.4532 | Testing Discrim Acc: 78.3767 | Testing Ensemble Acc: 86.4165\n",
            "Epoch: 57 | Discrim Loss: 9.1389 | Ensemble Loss: 6.3051 | Total Loss: 15.4440 | Discrim Acc: 78.1159 | Ensemble Acc: 85.5808 | Testing Discrim Acc: 78.3155 | Testing Ensemble Acc: 86.3706\n",
            "Epoch: 58 | Discrim Loss: 9.1882 | Ensemble Loss: 6.1765 | Total Loss: 15.3647 | Discrim Acc: 78.4427 | Ensemble Acc: 86.0914 | Testing Discrim Acc: 78.2389 | Testing Ensemble Acc: 86.1256\n",
            "Epoch: 59 | Discrim Loss: 9.1197 | Ensemble Loss: 6.2425 | Total Loss: 15.3622 | Discrim Acc: 77.8402 | Ensemble Acc: 85.9025 | Testing Discrim Acc: 78.3920 | Testing Ensemble Acc: 86.2175\n",
            "Epoch: 60 | Discrim Loss: 9.1641 | Ensemble Loss: 6.2290 | Total Loss: 15.3931 | Discrim Acc: 78.3814 | Ensemble Acc: 85.8514 | Testing Discrim Acc: 78.4380 | Testing Ensemble Acc: 86.2021\n",
            "Epoch: 61 | Discrim Loss: 9.0318 | Ensemble Loss: 6.3285 | Total Loss: 15.3603 | Discrim Acc: 77.9627 | Ensemble Acc: 85.7646 | Testing Discrim Acc: 78.3308 | Testing Ensemble Acc: 86.4931\n",
            "Epoch: 62 | Discrim Loss: 8.8850 | Ensemble Loss: 6.1471 | Total Loss: 15.0320 | Discrim Acc: 78.3967 | Ensemble Acc: 86.2190 | Testing Discrim Acc: 78.4074 | Testing Ensemble Acc: 86.7381\n",
            "Epoch: 63 | Discrim Loss: 8.8964 | Ensemble Loss: 6.5466 | Total Loss: 15.4430 | Discrim Acc: 78.2333 | Ensemble Acc: 86.0148 | Testing Discrim Acc: 78.3920 | Testing Ensemble Acc: 86.2328\n",
            "Epoch: 64 | Discrim Loss: 9.0443 | Ensemble Loss: 6.3969 | Total Loss: 15.4412 | Discrim Acc: 77.9219 | Ensemble Acc: 85.9280 | Testing Discrim Acc: 78.3614 | Testing Ensemble Acc: 86.6309\n",
            "Epoch: 65 | Discrim Loss: 9.1877 | Ensemble Loss: 6.1119 | Total Loss: 15.2996 | Discrim Acc: 78.0291 | Ensemble Acc: 86.0608 | Testing Discrim Acc: 78.3461 | Testing Ensemble Acc: 86.7381\n",
            "Epoch: 66 | Discrim Loss: 9.1704 | Ensemble Loss: 6.1965 | Total Loss: 15.3669 | Discrim Acc: 78.6010 | Ensemble Acc: 85.6063 | Testing Discrim Acc: 78.2695 | Testing Ensemble Acc: 87.1363\n",
            "Epoch: 67 | Discrim Loss: 9.1496 | Ensemble Loss: 5.9523 | Total Loss: 15.1019 | Discrim Acc: 78.2231 | Ensemble Acc: 86.1833 | Testing Discrim Acc: 78.2695 | Testing Ensemble Acc: 86.6616\n",
            "Epoch: 68 | Discrim Loss: 9.2194 | Ensemble Loss: 5.9857 | Total Loss: 15.2051 | Discrim Acc: 78.3712 | Ensemble Acc: 86.1986 | Testing Discrim Acc: 78.3308 | Testing Ensemble Acc: 87.1057\n",
            "Epoch: 69 | Discrim Loss: 8.8691 | Ensemble Loss: 6.0189 | Total Loss: 14.8880 | Discrim Acc: 78.1057 | Ensemble Acc: 86.0659 | Testing Discrim Acc: 78.3308 | Testing Ensemble Acc: 86.4012\n",
            "Epoch: 70 | Discrim Loss: 8.7997 | Ensemble Loss: 5.9411 | Total Loss: 14.7408 | Discrim Acc: 78.1925 | Ensemble Acc: 86.4743 | Testing Discrim Acc: 78.4686 | Testing Ensemble Acc: 86.5697\n",
            "Epoch: 71 | Discrim Loss: 8.8128 | Ensemble Loss: 5.9274 | Total Loss: 14.7402 | Discrim Acc: 78.6367 | Ensemble Acc: 86.4131 | Testing Discrim Acc: 78.3308 | Testing Ensemble Acc: 86.8453\n",
            "Epoch: 72 | Discrim Loss: 8.7835 | Ensemble Loss: 5.8823 | Total Loss: 14.6658 | Discrim Acc: 78.3048 | Ensemble Acc: 86.4743 | Testing Discrim Acc: 78.3461 | Testing Ensemble Acc: 86.9985\n",
            "Epoch: 73 | Discrim Loss: 8.8588 | Ensemble Loss: 6.0725 | Total Loss: 14.9313 | Discrim Acc: 78.3099 | Ensemble Acc: 86.3671 | Testing Discrim Acc: 78.3767 | Testing Ensemble Acc: 86.7381\n",
            "Epoch: 74 | Discrim Loss: 8.8522 | Ensemble Loss: 6.0768 | Total Loss: 14.9290 | Discrim Acc: 78.6469 | Ensemble Acc: 86.2497 | Testing Discrim Acc: 78.3461 | Testing Ensemble Acc: 86.8453\n",
            "Epoch: 75 | Discrim Loss: 8.7505 | Ensemble Loss: 5.9389 | Total Loss: 14.6894 | Discrim Acc: 78.2640 | Ensemble Acc: 86.8420 | Testing Discrim Acc: 78.3614 | Testing Ensemble Acc: 86.9678\n",
            "Epoch: 76 | Discrim Loss: 8.8014 | Ensemble Loss: 5.8512 | Total Loss: 14.6526 | Discrim Acc: 78.2793 | Ensemble Acc: 86.5969 | Testing Discrim Acc: 78.2083 | Testing Ensemble Acc: 86.8760\n",
            "Epoch: 77 | Discrim Loss: 8.7970 | Ensemble Loss: 5.8683 | Total Loss: 14.6653 | Discrim Acc: 78.2384 | Ensemble Acc: 86.5560 | Testing Discrim Acc: 78.3767 | Testing Ensemble Acc: 86.8760\n",
            "Epoch: 78 | Discrim Loss: 8.7822 | Ensemble Loss: 5.7902 | Total Loss: 14.5725 | Discrim Acc: 78.6010 | Ensemble Acc: 86.5050 | Testing Discrim Acc: 78.4380 | Testing Ensemble Acc: 86.9678\n",
            "Epoch: 79 | Discrim Loss: 8.7526 | Ensemble Loss: 5.6694 | Total Loss: 14.4220 | Discrim Acc: 78.4274 | Ensemble Acc: 86.8981 | Testing Discrim Acc: 78.4074 | Testing Ensemble Acc: 87.2741\n",
            "Epoch: 80 | Discrim Loss: 8.8710 | Ensemble Loss: 5.7531 | Total Loss: 14.6240 | Discrim Acc: 78.4069 | Ensemble Acc: 86.6633 | Testing Discrim Acc: 78.4074 | Testing Ensemble Acc: 87.1363\n",
            "Epoch: 81 | Discrim Loss: 8.9468 | Ensemble Loss: 5.8261 | Total Loss: 14.7729 | Discrim Acc: 78.3967 | Ensemble Acc: 86.9135 | Testing Discrim Acc: 78.5145 | Testing Ensemble Acc: 86.9985\n",
            "Epoch: 82 | Discrim Loss: 8.9107 | Ensemble Loss: 5.9051 | Total Loss: 14.8159 | Discrim Acc: 78.3661 | Ensemble Acc: 86.6326 | Testing Discrim Acc: 78.4992 | Testing Ensemble Acc: 87.5038\n",
            "Epoch: 83 | Discrim Loss: 8.8447 | Ensemble Loss: 5.7155 | Total Loss: 14.5602 | Discrim Acc: 78.3865 | Ensemble Acc: 86.7399 | Testing Discrim Acc: 78.4686 | Testing Ensemble Acc: 87.0750\n",
            "Epoch: 84 | Discrim Loss: 8.9140 | Ensemble Loss: 5.7811 | Total Loss: 14.6950 | Discrim Acc: 78.2231 | Ensemble Acc: 86.9135 | Testing Discrim Acc: 78.5145 | Testing Ensemble Acc: 87.2129\n",
            "Epoch: 85 | Discrim Loss: 8.8961 | Ensemble Loss: 5.7098 | Total Loss: 14.6059 | Discrim Acc: 78.4223 | Ensemble Acc: 86.9441 | Testing Discrim Acc: 78.4686 | Testing Ensemble Acc: 87.7795\n",
            "Epoch: 86 | Discrim Loss: 8.7451 | Ensemble Loss: 5.7082 | Total Loss: 14.4533 | Discrim Acc: 78.4682 | Ensemble Acc: 86.9696 | Testing Discrim Acc: 78.4227 | Testing Ensemble Acc: 87.3047\n",
            "Epoch: 87 | Discrim Loss: 8.7264 | Ensemble Loss: 5.7896 | Total Loss: 14.5160 | Discrim Acc: 78.6827 | Ensemble Acc: 86.8726 | Testing Discrim Acc: 78.4992 | Testing Ensemble Acc: 87.1669\n",
            "Epoch: 88 | Discrim Loss: 8.7055 | Ensemble Loss: 5.5706 | Total Loss: 14.2761 | Discrim Acc: 78.3763 | Ensemble Acc: 86.9951 | Testing Discrim Acc: 78.4074 | Testing Ensemble Acc: 87.3354\n",
            "Epoch: 89 | Discrim Loss: 8.5647 | Ensemble Loss: 5.5501 | Total Loss: 14.1147 | Discrim Acc: 78.1925 | Ensemble Acc: 87.0871 | Testing Discrim Acc: 78.5758 | Testing Ensemble Acc: 87.6417\n",
            "Epoch: 90 | Discrim Loss: 8.6282 | Ensemble Loss: 5.5093 | Total Loss: 14.1375 | Discrim Acc: 78.4069 | Ensemble Acc: 87.3577 | Testing Discrim Acc: 78.5758 | Testing Ensemble Acc: 87.6570\n",
            "Epoch: 91 | Discrim Loss: 8.6204 | Ensemble Loss: 5.5590 | Total Loss: 14.1795 | Discrim Acc: 78.6469 | Ensemble Acc: 87.2198 | Testing Discrim Acc: 78.4686 | Testing Ensemble Acc: 88.0398\n",
            "Epoch: 92 | Discrim Loss: 8.6729 | Ensemble Loss: 5.7851 | Total Loss: 14.4580 | Discrim Acc: 78.3508 | Ensemble Acc: 87.2760 | Testing Discrim Acc: 78.4380 | Testing Ensemble Acc: 87.5038\n",
            "Epoch: 93 | Discrim Loss: 8.6256 | Ensemble Loss: 5.4439 | Total Loss: 14.0694 | Discrim Acc: 78.5040 | Ensemble Acc: 87.5211 | Testing Discrim Acc: 78.5452 | Testing Ensemble Acc: 87.5957\n",
            "Epoch: 94 | Discrim Loss: 8.5404 | Ensemble Loss: 5.4237 | Total Loss: 13.9641 | Discrim Acc: 78.5601 | Ensemble Acc: 87.4292 | Testing Discrim Acc: 78.4380 | Testing Ensemble Acc: 87.7489\n",
            "Epoch: 95 | Discrim Loss: 8.4421 | Ensemble Loss: 5.4793 | Total Loss: 13.9214 | Discrim Acc: 78.6265 | Ensemble Acc: 87.4240 | Testing Discrim Acc: 78.3920 | Testing Ensemble Acc: 87.4579\n",
            "Epoch: 96 | Discrim Loss: 8.4041 | Ensemble Loss: 5.4849 | Total Loss: 13.8890 | Discrim Acc: 78.8154 | Ensemble Acc: 87.3321 | Testing Discrim Acc: 78.5758 | Testing Ensemble Acc: 87.8714\n",
            "Epoch: 97 | Discrim Loss: 8.4262 | Ensemble Loss: 5.3374 | Total Loss: 13.7636 | Discrim Acc: 78.4886 | Ensemble Acc: 87.3781 | Testing Discrim Acc: 78.4839 | Testing Ensemble Acc: 87.9479\n",
            "Epoch: 98 | Discrim Loss: 8.5031 | Ensemble Loss: 5.3827 | Total Loss: 13.8858 | Discrim Acc: 78.4835 | Ensemble Acc: 87.6385 | Testing Discrim Acc: 78.5911 | Testing Ensemble Acc: 87.3507\n",
            "Epoch: 99 | Discrim Loss: 8.4112 | Ensemble Loss: 5.3461 | Total Loss: 13.7572 | Discrim Acc: 78.4631 | Ensemble Acc: 87.6691 | Testing Discrim Acc: 78.5452 | Testing Ensemble Acc: 87.7182\n",
            "Epoch: 100 | Discrim Loss: 8.4053 | Ensemble Loss: 5.3761 | Total Loss: 13.7813 | Discrim Acc: 78.5448 | Ensemble Acc: 87.4904 | Testing Discrim Acc: 78.5145 | Testing Ensemble Acc: 87.5651\n",
            "Epoch: 101 | Discrim Loss: 8.3999 | Ensemble Loss: 5.4043 | Total Loss: 13.8042 | Discrim Acc: 78.5857 | Ensemble Acc: 87.7049 | Testing Discrim Acc: 78.5145 | Testing Ensemble Acc: 88.1011\n",
            "Epoch: 102 | Discrim Loss: 8.3305 | Ensemble Loss: 5.1883 | Total Loss: 13.5188 | Discrim Acc: 78.4069 | Ensemble Acc: 87.7355 | Testing Discrim Acc: 78.4686 | Testing Ensemble Acc: 87.5191\n",
            "Epoch: 103 | Discrim Loss: 8.3062 | Ensemble Loss: 5.2024 | Total Loss: 13.5086 | Discrim Acc: 78.5142 | Ensemble Acc: 87.5619 | Testing Discrim Acc: 78.4686 | Testing Ensemble Acc: 87.6876\n",
            "Epoch: 104 | Discrim Loss: 8.3911 | Ensemble Loss: 5.3490 | Total Loss: 13.7401 | Discrim Acc: 78.5244 | Ensemble Acc: 87.6998 | Testing Discrim Acc: 78.4380 | Testing Ensemble Acc: 87.8407\n",
            "Epoch: 105 | Discrim Loss: 8.3745 | Ensemble Loss: 5.2441 | Total Loss: 13.6186 | Discrim Acc: 78.7593 | Ensemble Acc: 87.6845 | Testing Discrim Acc: 78.4992 | Testing Ensemble Acc: 88.0858\n",
            "Epoch: 106 | Discrim Loss: 8.4563 | Ensemble Loss: 5.3069 | Total Loss: 13.7632 | Discrim Acc: 78.6673 | Ensemble Acc: 87.3628 | Testing Discrim Acc: 78.5145 | Testing Ensemble Acc: 87.8560\n",
            "Epoch: 107 | Discrim Loss: 8.5582 | Ensemble Loss: 5.2895 | Total Loss: 13.8477 | Discrim Acc: 78.9175 | Ensemble Acc: 87.8274 | Testing Discrim Acc: 78.5452 | Testing Ensemble Acc: 87.9326\n",
            "Epoch: 108 | Discrim Loss: 8.4376 | Ensemble Loss: 5.3572 | Total Loss: 13.7948 | Discrim Acc: 78.7644 | Ensemble Acc: 87.8274 | Testing Discrim Acc: 78.5299 | Testing Ensemble Acc: 87.9020\n",
            "Epoch: 109 | Discrim Loss: 8.4331 | Ensemble Loss: 5.2384 | Total Loss: 13.6716 | Discrim Acc: 78.5805 | Ensemble Acc: 87.7406 | Testing Discrim Acc: 78.5299 | Testing Ensemble Acc: 88.1470\n",
            "Epoch: 110 | Discrim Loss: 8.4377 | Ensemble Loss: 5.1129 | Total Loss: 13.5506 | Discrim Acc: 79.0452 | Ensemble Acc: 88.0112 | Testing Discrim Acc: 78.3614 | Testing Ensemble Acc: 87.9326\n",
            "Epoch: 111 | Discrim Loss: 8.3984 | Ensemble Loss: 5.1529 | Total Loss: 13.5512 | Discrim Acc: 78.4733 | Ensemble Acc: 87.8683 | Testing Discrim Acc: 78.4839 | Testing Ensemble Acc: 87.9173\n",
            "Epoch: 112 | Discrim Loss: 8.4730 | Ensemble Loss: 5.0334 | Total Loss: 13.5064 | Discrim Acc: 78.6571 | Ensemble Acc: 88.2002 | Testing Discrim Acc: 78.4533 | Testing Ensemble Acc: 88.2236\n",
            "Epoch: 113 | Discrim Loss: 8.5543 | Ensemble Loss: 5.2700 | Total Loss: 13.8243 | Discrim Acc: 78.6673 | Ensemble Acc: 88.0572 | Testing Discrim Acc: 78.5605 | Testing Ensemble Acc: 88.1164\n",
            "Epoch: 114 | Discrim Loss: 8.5559 | Ensemble Loss: 5.1121 | Total Loss: 13.6680 | Discrim Acc: 78.5142 | Ensemble Acc: 87.9806 | Testing Discrim Acc: 78.5299 | Testing Ensemble Acc: 88.0092\n",
            "Epoch: 115 | Discrim Loss: 8.5357 | Ensemble Loss: 5.1499 | Total Loss: 13.6856 | Discrim Acc: 78.2640 | Ensemble Acc: 88.0214 | Testing Discrim Acc: 78.5605 | Testing Ensemble Acc: 88.0245\n",
            "Epoch: 116 | Discrim Loss: 8.4393 | Ensemble Loss: 5.1453 | Total Loss: 13.5845 | Discrim Acc: 78.4376 | Ensemble Acc: 88.1031 | Testing Discrim Acc: 78.6064 | Testing Ensemble Acc: 88.1317\n",
            "Epoch: 117 | Discrim Loss: 8.4558 | Ensemble Loss: 5.1830 | Total Loss: 13.6388 | Discrim Acc: 78.7746 | Ensemble Acc: 87.9091 | Testing Discrim Acc: 78.5911 | Testing Ensemble Acc: 88.1011\n",
            "Epoch: 118 | Discrim Loss: 8.5291 | Ensemble Loss: 5.0969 | Total Loss: 13.6260 | Discrim Acc: 78.7950 | Ensemble Acc: 88.1593 | Testing Discrim Acc: 78.6371 | Testing Ensemble Acc: 88.1164\n",
            "Epoch: 119 | Discrim Loss: 8.4498 | Ensemble Loss: 5.1732 | Total Loss: 13.6230 | Discrim Acc: 78.4223 | Ensemble Acc: 88.0010 | Testing Discrim Acc: 78.5145 | Testing Ensemble Acc: 88.2236\n",
            "Epoch: 120 | Discrim Loss: 8.5049 | Ensemble Loss: 5.1345 | Total Loss: 13.6394 | Discrim Acc: 78.6827 | Ensemble Acc: 88.0317 | Testing Discrim Acc: 78.5145 | Testing Ensemble Acc: 88.4074\n",
            "Epoch: 121 | Discrim Loss: 8.5233 | Ensemble Loss: 5.1013 | Total Loss: 13.6247 | Discrim Acc: 78.5499 | Ensemble Acc: 88.0725 | Testing Discrim Acc: 78.5758 | Testing Ensemble Acc: 88.0858\n",
            "Epoch: 122 | Discrim Loss: 8.5562 | Ensemble Loss: 5.0342 | Total Loss: 13.5904 | Discrim Acc: 78.7541 | Ensemble Acc: 88.2716 | Testing Discrim Acc: 78.5452 | Testing Ensemble Acc: 88.2389\n",
            "Epoch: 123 | Discrim Loss: 8.5274 | Ensemble Loss: 5.0201 | Total Loss: 13.5474 | Discrim Acc: 78.7593 | Ensemble Acc: 88.2767 | Testing Discrim Acc: 78.5911 | Testing Ensemble Acc: 88.4074\n",
            "Epoch: 124 | Discrim Loss: 8.4241 | Ensemble Loss: 5.0292 | Total Loss: 13.4533 | Discrim Acc: 78.6776 | Ensemble Acc: 88.5984 | Testing Discrim Acc: 78.5452 | Testing Ensemble Acc: 88.4686\n",
            "Epoch: 125 | Discrim Loss: 8.4372 | Ensemble Loss: 4.8216 | Total Loss: 13.2589 | Discrim Acc: 78.4376 | Ensemble Acc: 88.5576 | Testing Discrim Acc: 78.5758 | Testing Ensemble Acc: 88.3767\n",
            "Epoch: 126 | Discrim Loss: 8.2959 | Ensemble Loss: 5.0210 | Total Loss: 13.3169 | Discrim Acc: 78.6163 | Ensemble Acc: 88.2359 | Testing Discrim Acc: 78.6983 | Testing Ensemble Acc: 88.1011\n",
            "Epoch: 127 | Discrim Loss: 8.2131 | Ensemble Loss: 4.9904 | Total Loss: 13.2035 | Discrim Acc: 79.1065 | Ensemble Acc: 88.3993 | Testing Discrim Acc: 78.5452 | Testing Ensemble Acc: 88.2236\n",
            "Epoch: 128 | Discrim Loss: 8.2543 | Ensemble Loss: 5.2421 | Total Loss: 13.4964 | Discrim Acc: 78.4886 | Ensemble Acc: 88.3176 | Testing Discrim Acc: 78.6830 | Testing Ensemble Acc: 88.1930\n",
            "Epoch: 129 | Discrim Loss: 8.3861 | Ensemble Loss: 4.9304 | Total Loss: 13.3166 | Discrim Acc: 78.9533 | Ensemble Acc: 88.5014 | Testing Discrim Acc: 78.6371 | Testing Ensemble Acc: 88.2083\n",
            "Epoch: 130 | Discrim Loss: 8.2482 | Ensemble Loss: 5.0133 | Total Loss: 13.2615 | Discrim Acc: 78.8818 | Ensemble Acc: 88.6086 | Testing Discrim Acc: 78.5911 | Testing Ensemble Acc: 88.1470\n",
            "Epoch: 131 | Discrim Loss: 8.1506 | Ensemble Loss: 4.9576 | Total Loss: 13.1082 | Discrim Acc: 78.7286 | Ensemble Acc: 88.3329 | Testing Discrim Acc: 78.5758 | Testing Ensemble Acc: 88.3614\n",
            "Epoch: 132 | Discrim Loss: 8.1528 | Ensemble Loss: 4.8592 | Total Loss: 13.0120 | Discrim Acc: 78.5244 | Ensemble Acc: 88.6648 | Testing Discrim Acc: 78.6217 | Testing Ensemble Acc: 88.4227\n",
            "Epoch: 133 | Discrim Loss: 8.0505 | Ensemble Loss: 4.8720 | Total Loss: 12.9225 | Discrim Acc: 78.6163 | Ensemble Acc: 88.4912 | Testing Discrim Acc: 78.6064 | Testing Ensemble Acc: 88.3155\n",
            "Epoch: 134 | Discrim Loss: 8.0194 | Ensemble Loss: 4.8975 | Total Loss: 12.9170 | Discrim Acc: 78.3610 | Ensemble Acc: 88.5320 | Testing Discrim Acc: 78.6217 | Testing Ensemble Acc: 88.4686\n",
            "Epoch: 135 | Discrim Loss: 8.0248 | Ensemble Loss: 4.8963 | Total Loss: 12.9211 | Discrim Acc: 78.9175 | Ensemble Acc: 88.4299 | Testing Discrim Acc: 78.5758 | Testing Ensemble Acc: 88.6524\n",
            "Epoch: 136 | Discrim Loss: 8.0550 | Ensemble Loss: 4.8208 | Total Loss: 12.8757 | Discrim Acc: 78.6622 | Ensemble Acc: 88.6750 | Testing Discrim Acc: 78.5758 | Testing Ensemble Acc: 88.4839\n",
            "Epoch: 137 | Discrim Loss: 8.1599 | Ensemble Loss: 4.7920 | Total Loss: 12.9518 | Discrim Acc: 78.8256 | Ensemble Acc: 88.2767 | Testing Discrim Acc: 78.6064 | Testing Ensemble Acc: 88.6524\n",
            "Epoch: 138 | Discrim Loss: 8.1380 | Ensemble Loss: 4.8996 | Total Loss: 13.0376 | Discrim Acc: 78.6878 | Ensemble Acc: 88.5729 | Testing Discrim Acc: 78.6064 | Testing Ensemble Acc: 88.5299\n",
            "Epoch: 139 | Discrim Loss: 8.1748 | Ensemble Loss: 4.9733 | Total Loss: 13.1481 | Discrim Acc: 78.9329 | Ensemble Acc: 88.4452 | Testing Discrim Acc: 78.5605 | Testing Ensemble Acc: 88.5605\n",
            "Epoch: 140 | Discrim Loss: 8.0602 | Ensemble Loss: 4.8284 | Total Loss: 12.8885 | Discrim Acc: 78.8409 | Ensemble Acc: 88.8384 | Testing Discrim Acc: 78.5911 | Testing Ensemble Acc: 88.5911\n",
            "Epoch: 141 | Discrim Loss: 8.0963 | Ensemble Loss: 4.8814 | Total Loss: 12.9777 | Discrim Acc: 78.8205 | Ensemble Acc: 88.7720 | Testing Discrim Acc: 78.6371 | Testing Ensemble Acc: 88.2389\n",
            "Epoch: 142 | Discrim Loss: 8.0827 | Ensemble Loss: 4.8442 | Total Loss: 12.9269 | Discrim Acc: 78.8001 | Ensemble Acc: 88.7516 | Testing Discrim Acc: 78.5911 | Testing Ensemble Acc: 88.4686\n",
            "Epoch: 143 | Discrim Loss: 8.0354 | Ensemble Loss: 4.8419 | Total Loss: 12.8774 | Discrim Acc: 78.8716 | Ensemble Acc: 88.6393 | Testing Discrim Acc: 78.5605 | Testing Ensemble Acc: 88.5452\n",
            "Epoch: 144 | Discrim Loss: 8.0816 | Ensemble Loss: 4.7680 | Total Loss: 12.8497 | Discrim Acc: 79.0146 | Ensemble Acc: 88.4963 | Testing Discrim Acc: 78.5758 | Testing Ensemble Acc: 88.2236\n",
            "Epoch: 145 | Discrim Loss: 8.1065 | Ensemble Loss: 4.7619 | Total Loss: 12.8684 | Discrim Acc: 78.8461 | Ensemble Acc: 88.9354 | Testing Discrim Acc: 78.5605 | Testing Ensemble Acc: 88.3767\n",
            "Epoch: 146 | Discrim Loss: 8.1284 | Ensemble Loss: 4.8910 | Total Loss: 13.0194 | Discrim Acc: 78.7541 | Ensemble Acc: 88.6801 | Testing Discrim Acc: 78.5911 | Testing Ensemble Acc: 88.6524\n",
            "Epoch: 147 | Discrim Loss: 8.1477 | Ensemble Loss: 4.8465 | Total Loss: 12.9942 | Discrim Acc: 79.1116 | Ensemble Acc: 88.8537 | Testing Discrim Acc: 78.6217 | Testing Ensemble Acc: 88.6217\n",
            "Epoch: 148 | Discrim Loss: 8.1221 | Ensemble Loss: 4.7812 | Total Loss: 12.9033 | Discrim Acc: 79.0554 | Ensemble Acc: 88.8844 | Testing Discrim Acc: 78.5605 | Testing Ensemble Acc: 88.4074\n",
            "Epoch: 149 | Discrim Loss: 8.1402 | Ensemble Loss: 4.6343 | Total Loss: 12.7746 | Discrim Acc: 78.7848 | Ensemble Acc: 88.9354 | Testing Discrim Acc: 78.6217 | Testing Ensemble Acc: 88.5605\n"
          ]
        }
      ],
      "source": [
        "discriminator, ensemble_models, loss_list, acc_dis, acc_en, dis_loss_list, en_loss_list, ckas, test_dis_running_acc, test_en_running_acc = single_train_test(train_loader, test_loader, al, be, la, num_attacks = num_attacks, num_epochs=num_epochs, class_num=class_num)\n"
      ]
    },
    {
      "cell_type": "markdown",
      "metadata": {
        "id": "XMtT51Fc-vHN"
      },
      "source": [
        "## CKA Figure generation"
      ]
    },
    {
      "cell_type": "code",
      "execution_count": 24,
      "metadata": {
        "colab": {
          "base_uri": "https://localhost:8080/"
        },
        "id": "1XcMxF4S-vPo",
        "outputId": "047d70fd-3fc4-471f-919a-6b1be9886bca"
      },
      "outputs": [
        {
          "name": "stdout",
          "output_type": "stream",
          "text": [
            "Average CKA Shape:  (5, 150)\n"
          ]
        }
      ],
      "source": [
        "ckas_np = np.asarray(ckas)\n",
        "ckas_np = ckas_np.reshape(ckas_np.shape[0],ckas_np.shape[-1],ckas_np.shape[1])\n",
        "avg_ckas = []\n",
        "for i in range(num_epochs):\n",
        "  avg_ckas.append(np.average(ckas_np[i], axis=1))\n",
        "avg_ckas = np.asarray(avg_ckas)\n",
        "avg_ckas = avg_ckas.reshape(avg_ckas.shape[-1],avg_ckas.shape[0])\n",
        "print(\"Average CKA Shape: \",avg_ckas.shape)"
      ]
    },
    {
      "cell_type": "code",
      "execution_count": 23,
      "metadata": {
        "colab": {
          "base_uri": "https://localhost:8080/",
          "height": 295
        },
        "id": "E8Fd6BRCJp0c",
        "outputId": "502ea29b-3895-4d17-bbed-f5fd9f5e00d7"
      },
      "outputs": [
        {
          "data": {
            "image/png": "[encoded data removed]",
            "text/plain": [
              "<Figure size 432x288 with 1 Axes>"
            ]
          },
          "metadata": {
            "needs_background": "light"
          },
          "output_type": "display_data"
        }
      ],
      "source": [
        "plt.plot(avg_ckas[0][15:110], label=\"FGSM\")\n",
        "plt.plot(avg_ckas[1][15:110], label=\"CW\")\n",
        "plt.plot(avg_ckas[2][10:110], label=\"PGD\")\n",
        "plt.plot(avg_ckas[3][10:110], label=\"I-FGSM\")\n",
        "plt.plot(avg_ckas[4][10:110], label=\"Vanilla\")\n",
        "plt.xlabel(\"Epoch\")\n",
        "plt.ylabel(\"CKA(Ov,Ok) Value\")\n",
        "plt.title('Average CKA for Each Attack {} {}-Attack'.format(dataset,num_attacks))\n",
        "plt.legend(loc=\"upper right\")\n",
        "plt.locator_params(axis=\"x\", integer=True, tight=True)\n",
        "# plt.savefig(\"cka.pdf\",dpi=500)\n",
        "plt.show()"
      ]
    },
    {
      "cell_type": "code",
      "execution_count": null,
      "metadata": {
        "id": "HRQKXDllRj-G"
      },
      "outputs": [],
      "source": [
        "# np.save('avg_ckas',avg_ckas)"
      ]
    },
    {
      "cell_type": "markdown",
      "metadata": {
        "id": "ZMW0FhwHC5UG"
      },
      "source": [
        "## Reporting"
      ]
    },
    {
      "cell_type": "code",
      "execution_count": null,
      "metadata": {
        "colab": {
          "base_uri": "https://localhost:8080/"
        },
        "id": "T3xcYGw_C5cu",
        "outputId": "41f5ad6f-4a51-430b-f6f3-06cf13276453"
      },
      "outputs": [
        {
          "name": "stdout",
          "output_type": "stream",
          "text": [
            "Discriminator Training Accuracy:  79.11156497319377\n",
            "Ensemble Training Accuracy:  88.93540975236151\n"
          ]
        }
      ],
      "source": [
        "print(\"Discriminator Training Accuracy: \",max(acc_dis))\n",
        "print(\"Ensemble Training Accuracy: \",max(acc_en))"
      ]
    },
    {
      "cell_type": "code",
      "execution_count": null,
      "metadata": {
        "colab": {
          "base_uri": "https://localhost:8080/",
          "height": 295
        },
        "id": "pC97eqY0C8P-",
        "outputId": "c728e702-2f2a-47d3-ec72-8d131d3901cd"
      },
      "outputs": [
        {
          "data": {
            "image/png": "[encoded data removed]",
            "text/plain": [
              "<Figure size 432x288 with 1 Axes>"
            ]
          },
          "metadata": {
            "needs_background": "light"
          },
          "output_type": "display_data"
        }
      ],
      "source": [
        "plt.plot(acc_dis)\n",
        "plt.title('Accuracy of Discriminator')\n",
        "plt.ylabel('Accuracy')\n",
        "plt.xlabel('Epoch')\n",
        "plt.show()"
      ]
    },
    {
      "cell_type": "code",
      "execution_count": null,
      "metadata": {
        "colab": {
          "base_uri": "https://localhost:8080/",
          "height": 295
        },
        "id": "I-b0FTRMDBev",
        "outputId": "6f0eea84-b909-4cda-8690-bc4d32f23a3a"
      },
      "outputs": [
        {
          "data": {
            "image/png": "[encoded data removed]",
            "text/plain": [
              "<Figure size 432x288 with 1 Axes>"
            ]
          },
          "metadata": {
            "needs_background": "light"
          },
          "output_type": "display_data"
        }
      ],
      "source": [
        "plt.plot(dis_loss_list)\n",
        "plt.title('Discriminator Loss Function')\n",
        "plt.ylabel('Loss')\n",
        "plt.xlabel('Epoch')\n",
        "plt.show()"
      ]
    },
    {
      "cell_type": "code",
      "execution_count": null,
      "metadata": {
        "colab": {
          "base_uri": "https://localhost:8080/",
          "height": 295
        },
        "id": "I_sN-CqQDC3n",
        "outputId": "2d57dac1-e668-4e9e-a6e8-94efd9e1083e"
      },
      "outputs": [
        {
          "data": {
            "image/png": "[encoded data removed]",
            "text/plain": [
              "<Figure size 432x288 with 1 Axes>"
            ]
          },
          "metadata": {
            "needs_background": "light"
          },
          "output_type": "display_data"
        }
      ],
      "source": [
        "plt.plot(acc_en)\n",
        "plt.title('Accuracy of Ensemble Networks')\n",
        "plt.ylabel('Accuracy')\n",
        "plt.xlabel('Epoch')\n",
        "plt.show()"
      ]
    },
    {
      "cell_type": "code",
      "execution_count": null,
      "metadata": {
        "colab": {
          "base_uri": "https://localhost:8080/",
          "height": 295
        },
        "id": "-KQlHxJcDFNg",
        "outputId": "70ec512a-bd11-4b75-b529-8cbd07e30c03"
      },
      "outputs": [
        {
          "data": {
            "image/png": "[encoded data removed]",
            "text/plain": [
              "<Figure size 432x288 with 1 Axes>"
            ]
          },
          "metadata": {
            "needs_background": "light"
          },
          "output_type": "display_data"
        }
      ],
      "source": [
        "plt.plot(en_loss_list)\n",
        "plt.title('Ensemble Loss Function')\n",
        "plt.ylabel('Loss')\n",
        "plt.xlabel('Epoch')\n",
        "plt.show()"
      ]
    },
    {
      "cell_type": "code",
      "execution_count": null,
      "metadata": {
        "colab": {
          "base_uri": "https://localhost:8080/",
          "height": 295
        },
        "id": "Slmriyk_DKef",
        "outputId": "31390f9b-f918-4b2c-f8af-487acf712e84"
      },
      "outputs": [
        {
          "data": {
            "image/png": "[encoded data removed]",
            "text/plain": [
              "<Figure size 432x288 with 1 Axes>"
            ]
          },
          "metadata": {
            "needs_background": "light"
          },
          "output_type": "display_data"
        }
      ],
      "source": [
        "plt.plot(loss_list)\n",
        "plt.title('Custom Loss Total')\n",
        "plt.ylabel('Loss')\n",
        "plt.xlabel('Epoch')\n",
        "plt.show()"
      ]
    },
    {
      "cell_type": "markdown",
      "metadata": {
        "id": "EACiYRpoDOM3"
      },
      "source": [
        "## Testing"
      ]
    },
    {
      "cell_type": "code",
      "execution_count": null,
      "metadata": {
        "colab": {
          "base_uri": "https://localhost:8080/"
        },
        "id": "QVeU9kIzDL4-",
        "outputId": "04f27f35-94d9-4a02-a196-efb55ad62b6a"
      },
      "outputs": [
        {
          "name": "stdout",
          "output_type": "stream",
          "text": [
            "Discriminator Testing Accuracy:  78.69831546707505\n",
            "Ensemble Testing Accuracy:  88.65237366003062\n"
          ]
        }
      ],
      "source": [
        "print(\"Discriminator Testing Accuracy: \", max(test_dis_running_acc))\n",
        "print(\"Ensemble Testing Accuracy: \",max(test_en_running_acc))"
      ]
    },
    {
      "cell_type": "code",
      "execution_count": null,
      "metadata": {
        "colab": {
          "base_uri": "https://localhost:8080/",
          "height": 295
        },
        "id": "jim68T4JDQWH",
        "outputId": "55959270-ddde-41c3-a139-7086cc2fb981"
      },
      "outputs": [
        {
          "data": {
            "image/png": "[encoded data removed]",
            "text/plain": [
              "<Figure size 432x288 with 1 Axes>"
            ]
          },
          "metadata": {
            "needs_background": "light"
          },
          "output_type": "display_data"
        }
      ],
      "source": [
        "plt.plot(test_dis_running_acc)\n",
        "plt.title('Testing Accuracy of Discriminator Network')\n",
        "plt.ylabel('Accuracy')\n",
        "plt.xlabel('Epoch')\n",
        "plt.show()"
      ]
    },
    {
      "cell_type": "code",
      "execution_count": null,
      "metadata": {
        "colab": {
          "base_uri": "https://localhost:8080/",
          "height": 295
        },
        "id": "dwo6MMDrDSUf",
        "outputId": "c38f8ac1-c180-41f3-8812-abd1a966cdf1"
      },
      "outputs": [
        {
          "data": {
            "image/png": "[encoded data removed]",
            "text/plain": [
              "<Figure size 432x288 with 1 Axes>"
            ]
          },
          "metadata": {
            "needs_background": "light"
          },
          "output_type": "display_data"
        }
      ],
      "source": [
        "plt.plot(test_en_running_acc)\n",
        "plt.title('Testing Accuracy of Ensemble Networks')\n",
        "plt.ylabel('Accuracy')\n",
        "plt.xlabel('Epoch')\n",
        "plt.show()"
      ]
    }
  ],
  "metadata": {
    "accelerator": "GPU",
    "colab": {
      "collapsed_sections": [
        "iASTqptrdlIT",
        "b4Xt7DmMdx7e",
        "eNkb820vL5GF",
        "ugsgJSAxtJLA",
        "rSNwbEvhtOFQ",
        "xKf5NtzLL9ot"
      ],
      "provenance": []
    },
    "kernelspec": {
      "display_name": "Python 3",
      "name": "python3"
    },
    "language_info": {
      "name": "python"
    }
  },
  "nbformat": 4,
  "nbformat_minor": 0
}
